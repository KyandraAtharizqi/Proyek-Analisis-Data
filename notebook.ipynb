{
  "cells": [
    {
      "cell_type": "markdown",
      "metadata": {
        "id": "H9wADwK78DCz"
      },
      "source": [
        "# Proyek Analisis Data: [Bike Sharing Dataset]\n",
        "- **Nama:** [Rafi Kyandra Atharizqi]\n",
        "- **Email:** [kyandraatharizqi@gmail.com]\n",
        "- **ID Dicoding:** [rafikyandraatharizqi]"
      ]
    },
    {
      "cell_type": "markdown",
      "metadata": {
        "id": "eE0raob58DC0"
      },
      "source": [
        "## Menentukan Pertanyaan Bisnis"
      ]
    },
    {
      "cell_type": "markdown",
      "metadata": {
        "id": "GmQeQ5YF8DC0"
      },
      "source": [
        "**day.csv**\n",
        "- Bagaimana performa tingkat penggunaan/jumlah pengguna E-Bike pada Tahun 2011 - 2012 berdasarkan bulan?\n",
        "- Pada musim apa penggunaan E-Bike paling banyak?\n",
        "- Bagaimana persen pembagian antara pengguna registered dan casual?\n",
        "- Bagaimana korelasi/ hubungan antara jumlah user dengan beberapa variabel cuaca numerik seperti temperatur, kecepatan angin, dan kelembapan?\n",
        "\n",
        "**hour.csv**\n",
        "- Pada jam berapakah user banyak menggunakan sepeda?\n",
        "\n",
        "**day.csv additional question**\n",
        "- Bagaimana pengelompokkan hari-hari berdasarkan tingkat keramaiannya variabel cuaca numeriknya?"
      ]
    },
    {
      "cell_type": "markdown",
      "metadata": {
        "id": "H-z4QGlO8DC1"
      },
      "source": [
        "## Import Semua Packages/Library yang Digunakan"
      ]
    },
    {
      "cell_type": "code",
      "execution_count": 31,
      "metadata": {},
      "outputs": [],
      "source": [
        "import pandas as pd\n",
        "import matplotlib.pyplot as plt\n",
        "import seaborn as sns\n",
        "import numpy as np\n",
        "import streamlit as st"
      ]
    },
    {
      "cell_type": "markdown",
      "metadata": {
        "id": "h_Sh51Xy8DC1"
      },
      "source": [
        "## Data Wrangling"
      ]
    },
    {
      "cell_type": "markdown",
      "metadata": {
        "id": "sXU2GBYu8DC1"
      },
      "source": [
        "### Gathering Data"
      ]
    },
    {
      "cell_type": "code",
      "execution_count": 96,
      "metadata": {},
      "outputs": [
        {
          "data": {
            "text/html": [
              "<div>\n",
              "<style scoped>\n",
              "    .dataframe tbody tr th:only-of-type {\n",
              "        vertical-align: middle;\n",
              "    }\n",
              "\n",
              "    .dataframe tbody tr th {\n",
              "        vertical-align: top;\n",
              "    }\n",
              "\n",
              "    .dataframe thead th {\n",
              "        text-align: right;\n",
              "    }\n",
              "</style>\n",
              "<table border=\"1\" class=\"dataframe\">\n",
              "  <thead>\n",
              "    <tr style=\"text-align: right;\">\n",
              "      <th></th>\n",
              "      <th>instant</th>\n",
              "      <th>dteday</th>\n",
              "      <th>season</th>\n",
              "      <th>yr</th>\n",
              "      <th>mnth</th>\n",
              "      <th>hr</th>\n",
              "      <th>holiday</th>\n",
              "      <th>weekday</th>\n",
              "      <th>workingday</th>\n",
              "      <th>weathersit</th>\n",
              "      <th>temp</th>\n",
              "      <th>atemp</th>\n",
              "      <th>hum</th>\n",
              "      <th>windspeed</th>\n",
              "      <th>casual</th>\n",
              "      <th>registered</th>\n",
              "      <th>cnt</th>\n",
              "    </tr>\n",
              "  </thead>\n",
              "  <tbody>\n",
              "    <tr>\n",
              "      <th>0</th>\n",
              "      <td>1</td>\n",
              "      <td>2011-01-01</td>\n",
              "      <td>1</td>\n",
              "      <td>0</td>\n",
              "      <td>1</td>\n",
              "      <td>0</td>\n",
              "      <td>0</td>\n",
              "      <td>6</td>\n",
              "      <td>0</td>\n",
              "      <td>1</td>\n",
              "      <td>0.24</td>\n",
              "      <td>0.2879</td>\n",
              "      <td>0.81</td>\n",
              "      <td>0.0</td>\n",
              "      <td>3</td>\n",
              "      <td>13</td>\n",
              "      <td>16</td>\n",
              "    </tr>\n",
              "    <tr>\n",
              "      <th>1</th>\n",
              "      <td>2</td>\n",
              "      <td>2011-01-01</td>\n",
              "      <td>1</td>\n",
              "      <td>0</td>\n",
              "      <td>1</td>\n",
              "      <td>1</td>\n",
              "      <td>0</td>\n",
              "      <td>6</td>\n",
              "      <td>0</td>\n",
              "      <td>1</td>\n",
              "      <td>0.22</td>\n",
              "      <td>0.2727</td>\n",
              "      <td>0.80</td>\n",
              "      <td>0.0</td>\n",
              "      <td>8</td>\n",
              "      <td>32</td>\n",
              "      <td>40</td>\n",
              "    </tr>\n",
              "    <tr>\n",
              "      <th>2</th>\n",
              "      <td>3</td>\n",
              "      <td>2011-01-01</td>\n",
              "      <td>1</td>\n",
              "      <td>0</td>\n",
              "      <td>1</td>\n",
              "      <td>2</td>\n",
              "      <td>0</td>\n",
              "      <td>6</td>\n",
              "      <td>0</td>\n",
              "      <td>1</td>\n",
              "      <td>0.22</td>\n",
              "      <td>0.2727</td>\n",
              "      <td>0.80</td>\n",
              "      <td>0.0</td>\n",
              "      <td>5</td>\n",
              "      <td>27</td>\n",
              "      <td>32</td>\n",
              "    </tr>\n",
              "    <tr>\n",
              "      <th>3</th>\n",
              "      <td>4</td>\n",
              "      <td>2011-01-01</td>\n",
              "      <td>1</td>\n",
              "      <td>0</td>\n",
              "      <td>1</td>\n",
              "      <td>3</td>\n",
              "      <td>0</td>\n",
              "      <td>6</td>\n",
              "      <td>0</td>\n",
              "      <td>1</td>\n",
              "      <td>0.24</td>\n",
              "      <td>0.2879</td>\n",
              "      <td>0.75</td>\n",
              "      <td>0.0</td>\n",
              "      <td>3</td>\n",
              "      <td>10</td>\n",
              "      <td>13</td>\n",
              "    </tr>\n",
              "    <tr>\n",
              "      <th>4</th>\n",
              "      <td>5</td>\n",
              "      <td>2011-01-01</td>\n",
              "      <td>1</td>\n",
              "      <td>0</td>\n",
              "      <td>1</td>\n",
              "      <td>4</td>\n",
              "      <td>0</td>\n",
              "      <td>6</td>\n",
              "      <td>0</td>\n",
              "      <td>1</td>\n",
              "      <td>0.24</td>\n",
              "      <td>0.2879</td>\n",
              "      <td>0.75</td>\n",
              "      <td>0.0</td>\n",
              "      <td>0</td>\n",
              "      <td>1</td>\n",
              "      <td>1</td>\n",
              "    </tr>\n",
              "  </tbody>\n",
              "</table>\n",
              "</div>"
            ],
            "text/plain": [
              "   instant      dteday  season  yr  mnth  hr  holiday  weekday  workingday  \\\n",
              "0        1  2011-01-01       1   0     1   0        0        6           0   \n",
              "1        2  2011-01-01       1   0     1   1        0        6           0   \n",
              "2        3  2011-01-01       1   0     1   2        0        6           0   \n",
              "3        4  2011-01-01       1   0     1   3        0        6           0   \n",
              "4        5  2011-01-01       1   0     1   4        0        6           0   \n",
              "\n",
              "   weathersit  temp   atemp   hum  windspeed  casual  registered  cnt  \n",
              "0           1  0.24  0.2879  0.81        0.0       3          13   16  \n",
              "1           1  0.22  0.2727  0.80        0.0       8          32   40  \n",
              "2           1  0.22  0.2727  0.80        0.0       5          27   32  \n",
              "3           1  0.24  0.2879  0.75        0.0       3          10   13  \n",
              "4           1  0.24  0.2879  0.75        0.0       0           1    1  "
            ]
          },
          "execution_count": 96,
          "metadata": {},
          "output_type": "execute_result"
        }
      ],
      "source": [
        "# Muat data berdasarkan jam\n",
        "hour_df = pd.read_csv('data\\\\hour.csv')\n",
        "hour_df.head()"
      ]
    },
    {
      "cell_type": "markdown",
      "metadata": {},
      "source": [
        "data hour.csv berhasil dimuat"
      ]
    },
    {
      "cell_type": "code",
      "execution_count": 97,
      "metadata": {},
      "outputs": [
        {
          "data": {
            "text/html": [
              "<div>\n",
              "<style scoped>\n",
              "    .dataframe tbody tr th:only-of-type {\n",
              "        vertical-align: middle;\n",
              "    }\n",
              "\n",
              "    .dataframe tbody tr th {\n",
              "        vertical-align: top;\n",
              "    }\n",
              "\n",
              "    .dataframe thead th {\n",
              "        text-align: right;\n",
              "    }\n",
              "</style>\n",
              "<table border=\"1\" class=\"dataframe\">\n",
              "  <thead>\n",
              "    <tr style=\"text-align: right;\">\n",
              "      <th></th>\n",
              "      <th>instant</th>\n",
              "      <th>dteday</th>\n",
              "      <th>season</th>\n",
              "      <th>yr</th>\n",
              "      <th>mnth</th>\n",
              "      <th>holiday</th>\n",
              "      <th>weekday</th>\n",
              "      <th>workingday</th>\n",
              "      <th>weathersit</th>\n",
              "      <th>temp</th>\n",
              "      <th>atemp</th>\n",
              "      <th>hum</th>\n",
              "      <th>windspeed</th>\n",
              "      <th>casual</th>\n",
              "      <th>registered</th>\n",
              "      <th>cnt</th>\n",
              "    </tr>\n",
              "  </thead>\n",
              "  <tbody>\n",
              "    <tr>\n",
              "      <th>0</th>\n",
              "      <td>1</td>\n",
              "      <td>2011-01-01</td>\n",
              "      <td>1</td>\n",
              "      <td>0</td>\n",
              "      <td>1</td>\n",
              "      <td>0</td>\n",
              "      <td>6</td>\n",
              "      <td>0</td>\n",
              "      <td>2</td>\n",
              "      <td>0.344167</td>\n",
              "      <td>0.363625</td>\n",
              "      <td>0.805833</td>\n",
              "      <td>0.160446</td>\n",
              "      <td>331</td>\n",
              "      <td>654</td>\n",
              "      <td>985</td>\n",
              "    </tr>\n",
              "    <tr>\n",
              "      <th>1</th>\n",
              "      <td>2</td>\n",
              "      <td>2011-01-02</td>\n",
              "      <td>1</td>\n",
              "      <td>0</td>\n",
              "      <td>1</td>\n",
              "      <td>0</td>\n",
              "      <td>0</td>\n",
              "      <td>0</td>\n",
              "      <td>2</td>\n",
              "      <td>0.363478</td>\n",
              "      <td>0.353739</td>\n",
              "      <td>0.696087</td>\n",
              "      <td>0.248539</td>\n",
              "      <td>131</td>\n",
              "      <td>670</td>\n",
              "      <td>801</td>\n",
              "    </tr>\n",
              "    <tr>\n",
              "      <th>2</th>\n",
              "      <td>3</td>\n",
              "      <td>2011-01-03</td>\n",
              "      <td>1</td>\n",
              "      <td>0</td>\n",
              "      <td>1</td>\n",
              "      <td>0</td>\n",
              "      <td>1</td>\n",
              "      <td>1</td>\n",
              "      <td>1</td>\n",
              "      <td>0.196364</td>\n",
              "      <td>0.189405</td>\n",
              "      <td>0.437273</td>\n",
              "      <td>0.248309</td>\n",
              "      <td>120</td>\n",
              "      <td>1229</td>\n",
              "      <td>1349</td>\n",
              "    </tr>\n",
              "    <tr>\n",
              "      <th>3</th>\n",
              "      <td>4</td>\n",
              "      <td>2011-01-04</td>\n",
              "      <td>1</td>\n",
              "      <td>0</td>\n",
              "      <td>1</td>\n",
              "      <td>0</td>\n",
              "      <td>2</td>\n",
              "      <td>1</td>\n",
              "      <td>1</td>\n",
              "      <td>0.200000</td>\n",
              "      <td>0.212122</td>\n",
              "      <td>0.590435</td>\n",
              "      <td>0.160296</td>\n",
              "      <td>108</td>\n",
              "      <td>1454</td>\n",
              "      <td>1562</td>\n",
              "    </tr>\n",
              "    <tr>\n",
              "      <th>4</th>\n",
              "      <td>5</td>\n",
              "      <td>2011-01-05</td>\n",
              "      <td>1</td>\n",
              "      <td>0</td>\n",
              "      <td>1</td>\n",
              "      <td>0</td>\n",
              "      <td>3</td>\n",
              "      <td>1</td>\n",
              "      <td>1</td>\n",
              "      <td>0.226957</td>\n",
              "      <td>0.229270</td>\n",
              "      <td>0.436957</td>\n",
              "      <td>0.186900</td>\n",
              "      <td>82</td>\n",
              "      <td>1518</td>\n",
              "      <td>1600</td>\n",
              "    </tr>\n",
              "  </tbody>\n",
              "</table>\n",
              "</div>"
            ],
            "text/plain": [
              "   instant      dteday  season  yr  mnth  holiday  weekday  workingday  \\\n",
              "0        1  2011-01-01       1   0     1        0        6           0   \n",
              "1        2  2011-01-02       1   0     1        0        0           0   \n",
              "2        3  2011-01-03       1   0     1        0        1           1   \n",
              "3        4  2011-01-04       1   0     1        0        2           1   \n",
              "4        5  2011-01-05       1   0     1        0        3           1   \n",
              "\n",
              "   weathersit      temp     atemp       hum  windspeed  casual  registered  \\\n",
              "0           2  0.344167  0.363625  0.805833   0.160446     331         654   \n",
              "1           2  0.363478  0.353739  0.696087   0.248539     131         670   \n",
              "2           1  0.196364  0.189405  0.437273   0.248309     120        1229   \n",
              "3           1  0.200000  0.212122  0.590435   0.160296     108        1454   \n",
              "4           1  0.226957  0.229270  0.436957   0.186900      82        1518   \n",
              "\n",
              "    cnt  \n",
              "0   985  \n",
              "1   801  \n",
              "2  1349  \n",
              "3  1562  \n",
              "4  1600  "
            ]
          },
          "execution_count": 97,
          "metadata": {},
          "output_type": "execute_result"
        }
      ],
      "source": [
        "# Muat data berdasarkan hari\n",
        "day_df = pd.read_csv('data\\\\day.csv')\n",
        "day_df.head()"
      ]
    },
    {
      "cell_type": "markdown",
      "metadata": {},
      "source": [
        "data day.csv berhasil dimuat"
      ]
    },
    {
      "cell_type": "markdown",
      "metadata": {
        "id": "MMi6xGaDkbCi"
      },
      "source": [
        "**Insight:**\n",
        "- Kedua file csv berhasil dimuat ke dataframe, day.csv mewakili data berdasarkan hari dan hour.csv mewakili data berdasarkan jam"
      ]
    },
    {
      "cell_type": "markdown",
      "metadata": {
        "id": "FHSiqaZp8DC1"
      },
      "source": [
        "### Assessing Data"
      ]
    },
    {
      "cell_type": "markdown",
      "metadata": {},
      "source": [
        "### *hour_df*"
      ]
    },
    {
      "cell_type": "markdown",
      "metadata": {},
      "source": [
        "**Cek Tipe Data dan Missing Value**"
      ]
    },
    {
      "cell_type": "code",
      "execution_count": 98,
      "metadata": {},
      "outputs": [
        {
          "name": "stdout",
          "output_type": "stream",
          "text": [
            "<class 'pandas.core.frame.DataFrame'>\n",
            "RangeIndex: 17379 entries, 0 to 17378\n",
            "Data columns (total 17 columns):\n",
            " #   Column      Non-Null Count  Dtype  \n",
            "---  ------      --------------  -----  \n",
            " 0   instant     17379 non-null  int64  \n",
            " 1   dteday      17379 non-null  object \n",
            " 2   season      17379 non-null  int64  \n",
            " 3   yr          17379 non-null  int64  \n",
            " 4   mnth        17379 non-null  int64  \n",
            " 5   hr          17379 non-null  int64  \n",
            " 6   holiday     17379 non-null  int64  \n",
            " 7   weekday     17379 non-null  int64  \n",
            " 8   workingday  17379 non-null  int64  \n",
            " 9   weathersit  17379 non-null  int64  \n",
            " 10  temp        17379 non-null  float64\n",
            " 11  atemp       17379 non-null  float64\n",
            " 12  hum         17379 non-null  float64\n",
            " 13  windspeed   17379 non-null  float64\n",
            " 14  casual      17379 non-null  int64  \n",
            " 15  registered  17379 non-null  int64  \n",
            " 16  cnt         17379 non-null  int64  \n",
            "dtypes: float64(4), int64(12), object(1)\n",
            "memory usage: 2.3+ MB\n"
          ]
        }
      ],
      "source": [
        "hour_df.info()"
      ]
    },
    {
      "cell_type": "markdown",
      "metadata": {},
      "source": [
        "dteday memiliki tipe data object, seharusnya tipe data datetime\n",
        "\n",
        "Ada kejanggalan, seharusnya ada 17544 jam dalam rentang 1 Januari 2011 - 31 Januari 2024. Setiap jam seharusnya ada sebanyak 731 kali"
      ]
    },
    {
      "cell_type": "code",
      "execution_count": 99,
      "metadata": {},
      "outputs": [
        {
          "name": "stdout",
          "output_type": "stream",
          "text": [
            "hr\n",
            "0     726\n",
            "1     724\n",
            "2     715\n",
            "3     697\n",
            "4     697\n",
            "5     717\n",
            "6     725\n",
            "7     727\n",
            "8     727\n",
            "9     727\n",
            "10    727\n",
            "11    727\n",
            "12    728\n",
            "13    729\n",
            "14    729\n",
            "15    729\n",
            "16    730\n",
            "17    730\n",
            "18    728\n",
            "19    728\n",
            "20    728\n",
            "21    728\n",
            "22    728\n",
            "23    728\n",
            "Name: count, dtype: int64\n"
          ]
        }
      ],
      "source": [
        "# jumlah data jam (0-23)\n",
        "hour_counts = hour_df['hr'].value_counts().sort_index()\n",
        "\n",
        "\n",
        "print(hour_counts)"
      ]
    },
    {
      "cell_type": "markdown",
      "metadata": {},
      "source": [
        "Disini kita dapat melihat bahwa data per jam jumlahnya tidak sama, menandakan ada beberapa data yang hilang"
      ]
    },
    {
      "cell_type": "markdown",
      "metadata": {},
      "source": [
        "**Cek Duplikat**"
      ]
    },
    {
      "cell_type": "code",
      "execution_count": 100,
      "metadata": {},
      "outputs": [
        {
          "data": {
            "text/plain": [
              "0        False\n",
              "1        False\n",
              "2        False\n",
              "3        False\n",
              "4        False\n",
              "         ...  \n",
              "17374    False\n",
              "17375    False\n",
              "17376    False\n",
              "17377    False\n",
              "17378    False\n",
              "Length: 17379, dtype: bool"
            ]
          },
          "execution_count": 100,
          "metadata": {},
          "output_type": "execute_result"
        }
      ],
      "source": [
        "# Cek apakah ada yang terduplikat\n",
        "hour_df.duplicated()"
      ]
    },
    {
      "cell_type": "markdown",
      "metadata": {},
      "source": [
        "Semua row dikembalikan sebagai false, berarti tidak ada yang terduplikat"
      ]
    },
    {
      "cell_type": "markdown",
      "metadata": {},
      "source": [
        "**Cek Outlier**"
      ]
    },
    {
      "cell_type": "code",
      "execution_count": 102,
      "metadata": {},
      "outputs": [
        {
          "data": {
            "text/html": [
              "<div>\n",
              "<style scoped>\n",
              "    .dataframe tbody tr th:only-of-type {\n",
              "        vertical-align: middle;\n",
              "    }\n",
              "\n",
              "    .dataframe tbody tr th {\n",
              "        vertical-align: top;\n",
              "    }\n",
              "\n",
              "    .dataframe thead th {\n",
              "        text-align: right;\n",
              "    }\n",
              "</style>\n",
              "<table border=\"1\" class=\"dataframe\">\n",
              "  <thead>\n",
              "    <tr style=\"text-align: right;\">\n",
              "      <th></th>\n",
              "      <th>instant</th>\n",
              "      <th>season</th>\n",
              "      <th>yr</th>\n",
              "      <th>mnth</th>\n",
              "      <th>hr</th>\n",
              "      <th>holiday</th>\n",
              "      <th>weekday</th>\n",
              "      <th>workingday</th>\n",
              "      <th>weathersit</th>\n",
              "      <th>temp</th>\n",
              "      <th>atemp</th>\n",
              "      <th>hum</th>\n",
              "      <th>windspeed</th>\n",
              "      <th>casual</th>\n",
              "      <th>registered</th>\n",
              "      <th>cnt</th>\n",
              "    </tr>\n",
              "  </thead>\n",
              "  <tbody>\n",
              "    <tr>\n",
              "      <th>count</th>\n",
              "      <td>17379.0000</td>\n",
              "      <td>17379.000000</td>\n",
              "      <td>17379.000000</td>\n",
              "      <td>17379.000000</td>\n",
              "      <td>17379.000000</td>\n",
              "      <td>17379.000000</td>\n",
              "      <td>17379.000000</td>\n",
              "      <td>17379.000000</td>\n",
              "      <td>17379.000000</td>\n",
              "      <td>17379.000000</td>\n",
              "      <td>17379.000000</td>\n",
              "      <td>17379.000000</td>\n",
              "      <td>17379.000000</td>\n",
              "      <td>17379.000000</td>\n",
              "      <td>17379.000000</td>\n",
              "      <td>17379.000000</td>\n",
              "    </tr>\n",
              "    <tr>\n",
              "      <th>mean</th>\n",
              "      <td>8690.0000</td>\n",
              "      <td>2.501640</td>\n",
              "      <td>0.502561</td>\n",
              "      <td>6.537775</td>\n",
              "      <td>11.546752</td>\n",
              "      <td>0.028770</td>\n",
              "      <td>3.003683</td>\n",
              "      <td>0.682721</td>\n",
              "      <td>1.425283</td>\n",
              "      <td>0.496987</td>\n",
              "      <td>0.475775</td>\n",
              "      <td>0.627229</td>\n",
              "      <td>0.190098</td>\n",
              "      <td>35.676218</td>\n",
              "      <td>153.786869</td>\n",
              "      <td>189.463088</td>\n",
              "    </tr>\n",
              "    <tr>\n",
              "      <th>std</th>\n",
              "      <td>5017.0295</td>\n",
              "      <td>1.106918</td>\n",
              "      <td>0.500008</td>\n",
              "      <td>3.438776</td>\n",
              "      <td>6.914405</td>\n",
              "      <td>0.167165</td>\n",
              "      <td>2.005771</td>\n",
              "      <td>0.465431</td>\n",
              "      <td>0.639357</td>\n",
              "      <td>0.192556</td>\n",
              "      <td>0.171850</td>\n",
              "      <td>0.192930</td>\n",
              "      <td>0.122340</td>\n",
              "      <td>49.305030</td>\n",
              "      <td>151.357286</td>\n",
              "      <td>181.387599</td>\n",
              "    </tr>\n",
              "    <tr>\n",
              "      <th>min</th>\n",
              "      <td>1.0000</td>\n",
              "      <td>1.000000</td>\n",
              "      <td>0.000000</td>\n",
              "      <td>1.000000</td>\n",
              "      <td>0.000000</td>\n",
              "      <td>0.000000</td>\n",
              "      <td>0.000000</td>\n",
              "      <td>0.000000</td>\n",
              "      <td>1.000000</td>\n",
              "      <td>0.020000</td>\n",
              "      <td>0.000000</td>\n",
              "      <td>0.000000</td>\n",
              "      <td>0.000000</td>\n",
              "      <td>0.000000</td>\n",
              "      <td>0.000000</td>\n",
              "      <td>1.000000</td>\n",
              "    </tr>\n",
              "    <tr>\n",
              "      <th>25%</th>\n",
              "      <td>4345.5000</td>\n",
              "      <td>2.000000</td>\n",
              "      <td>0.000000</td>\n",
              "      <td>4.000000</td>\n",
              "      <td>6.000000</td>\n",
              "      <td>0.000000</td>\n",
              "      <td>1.000000</td>\n",
              "      <td>0.000000</td>\n",
              "      <td>1.000000</td>\n",
              "      <td>0.340000</td>\n",
              "      <td>0.333300</td>\n",
              "      <td>0.480000</td>\n",
              "      <td>0.104500</td>\n",
              "      <td>4.000000</td>\n",
              "      <td>34.000000</td>\n",
              "      <td>40.000000</td>\n",
              "    </tr>\n",
              "    <tr>\n",
              "      <th>50%</th>\n",
              "      <td>8690.0000</td>\n",
              "      <td>3.000000</td>\n",
              "      <td>1.000000</td>\n",
              "      <td>7.000000</td>\n",
              "      <td>12.000000</td>\n",
              "      <td>0.000000</td>\n",
              "      <td>3.000000</td>\n",
              "      <td>1.000000</td>\n",
              "      <td>1.000000</td>\n",
              "      <td>0.500000</td>\n",
              "      <td>0.484800</td>\n",
              "      <td>0.630000</td>\n",
              "      <td>0.194000</td>\n",
              "      <td>17.000000</td>\n",
              "      <td>115.000000</td>\n",
              "      <td>142.000000</td>\n",
              "    </tr>\n",
              "    <tr>\n",
              "      <th>75%</th>\n",
              "      <td>13034.5000</td>\n",
              "      <td>3.000000</td>\n",
              "      <td>1.000000</td>\n",
              "      <td>10.000000</td>\n",
              "      <td>18.000000</td>\n",
              "      <td>0.000000</td>\n",
              "      <td>5.000000</td>\n",
              "      <td>1.000000</td>\n",
              "      <td>2.000000</td>\n",
              "      <td>0.660000</td>\n",
              "      <td>0.621200</td>\n",
              "      <td>0.780000</td>\n",
              "      <td>0.253700</td>\n",
              "      <td>48.000000</td>\n",
              "      <td>220.000000</td>\n",
              "      <td>281.000000</td>\n",
              "    </tr>\n",
              "    <tr>\n",
              "      <th>max</th>\n",
              "      <td>17379.0000</td>\n",
              "      <td>4.000000</td>\n",
              "      <td>1.000000</td>\n",
              "      <td>12.000000</td>\n",
              "      <td>23.000000</td>\n",
              "      <td>1.000000</td>\n",
              "      <td>6.000000</td>\n",
              "      <td>1.000000</td>\n",
              "      <td>4.000000</td>\n",
              "      <td>1.000000</td>\n",
              "      <td>1.000000</td>\n",
              "      <td>1.000000</td>\n",
              "      <td>0.850700</td>\n",
              "      <td>367.000000</td>\n",
              "      <td>886.000000</td>\n",
              "      <td>977.000000</td>\n",
              "    </tr>\n",
              "  </tbody>\n",
              "</table>\n",
              "</div>"
            ],
            "text/plain": [
              "          instant        season            yr          mnth            hr  \\\n",
              "count  17379.0000  17379.000000  17379.000000  17379.000000  17379.000000   \n",
              "mean    8690.0000      2.501640      0.502561      6.537775     11.546752   \n",
              "std     5017.0295      1.106918      0.500008      3.438776      6.914405   \n",
              "min        1.0000      1.000000      0.000000      1.000000      0.000000   \n",
              "25%     4345.5000      2.000000      0.000000      4.000000      6.000000   \n",
              "50%     8690.0000      3.000000      1.000000      7.000000     12.000000   \n",
              "75%    13034.5000      3.000000      1.000000     10.000000     18.000000   \n",
              "max    17379.0000      4.000000      1.000000     12.000000     23.000000   \n",
              "\n",
              "            holiday       weekday    workingday    weathersit          temp  \\\n",
              "count  17379.000000  17379.000000  17379.000000  17379.000000  17379.000000   \n",
              "mean       0.028770      3.003683      0.682721      1.425283      0.496987   \n",
              "std        0.167165      2.005771      0.465431      0.639357      0.192556   \n",
              "min        0.000000      0.000000      0.000000      1.000000      0.020000   \n",
              "25%        0.000000      1.000000      0.000000      1.000000      0.340000   \n",
              "50%        0.000000      3.000000      1.000000      1.000000      0.500000   \n",
              "75%        0.000000      5.000000      1.000000      2.000000      0.660000   \n",
              "max        1.000000      6.000000      1.000000      4.000000      1.000000   \n",
              "\n",
              "              atemp           hum     windspeed        casual    registered  \\\n",
              "count  17379.000000  17379.000000  17379.000000  17379.000000  17379.000000   \n",
              "mean       0.475775      0.627229      0.190098     35.676218    153.786869   \n",
              "std        0.171850      0.192930      0.122340     49.305030    151.357286   \n",
              "min        0.000000      0.000000      0.000000      0.000000      0.000000   \n",
              "25%        0.333300      0.480000      0.104500      4.000000     34.000000   \n",
              "50%        0.484800      0.630000      0.194000     17.000000    115.000000   \n",
              "75%        0.621200      0.780000      0.253700     48.000000    220.000000   \n",
              "max        1.000000      1.000000      0.850700    367.000000    886.000000   \n",
              "\n",
              "                cnt  \n",
              "count  17379.000000  \n",
              "mean     189.463088  \n",
              "std      181.387599  \n",
              "min        1.000000  \n",
              "25%       40.000000  \n",
              "50%      142.000000  \n",
              "75%      281.000000  \n",
              "max      977.000000  "
            ]
          },
          "execution_count": 102,
          "metadata": {},
          "output_type": "execute_result"
        }
      ],
      "source": [
        "hour_df.describe()"
      ]
    },
    {
      "cell_type": "markdown",
      "metadata": {},
      "source": [
        "Ada beberapa outlier dari kolom temp, atemp, hum, windspeed yang bernilai 0. Namun, untuk variabel cuaca numerik tersebut tidak kita gunakan untuk analisis dataframe ini. Kita akan menggunakan variabel cuaca numerik yang ada dalam days_df"
      ]
    },
    {
      "cell_type": "markdown",
      "metadata": {},
      "source": [
        "### *days_df*"
      ]
    },
    {
      "cell_type": "markdown",
      "metadata": {},
      "source": [
        "**Cek Tipe Data**"
      ]
    },
    {
      "cell_type": "code",
      "execution_count": 103,
      "metadata": {
        "id": "ax-3tEjc9Cj1"
      },
      "outputs": [
        {
          "name": "stdout",
          "output_type": "stream",
          "text": [
            "<class 'pandas.core.frame.DataFrame'>\n",
            "RangeIndex: 731 entries, 0 to 730\n",
            "Data columns (total 16 columns):\n",
            " #   Column      Non-Null Count  Dtype  \n",
            "---  ------      --------------  -----  \n",
            " 0   instant     731 non-null    int64  \n",
            " 1   dteday      731 non-null    object \n",
            " 2   season      731 non-null    int64  \n",
            " 3   yr          731 non-null    int64  \n",
            " 4   mnth        731 non-null    int64  \n",
            " 5   holiday     731 non-null    int64  \n",
            " 6   weekday     731 non-null    int64  \n",
            " 7   workingday  731 non-null    int64  \n",
            " 8   weathersit  731 non-null    int64  \n",
            " 9   temp        731 non-null    float64\n",
            " 10  atemp       731 non-null    float64\n",
            " 11  hum         731 non-null    float64\n",
            " 12  windspeed   731 non-null    float64\n",
            " 13  casual      731 non-null    int64  \n",
            " 14  registered  731 non-null    int64  \n",
            " 15  cnt         731 non-null    int64  \n",
            "dtypes: float64(4), int64(11), object(1)\n",
            "memory usage: 91.5+ KB\n"
          ]
        }
      ],
      "source": [
        "# Cek tipe data days_df (hari)\n",
        "day_df.info()"
      ]
    },
    {
      "cell_type": "markdown",
      "metadata": {},
      "source": [
        "- Seharusnya dteday mempunyai tipe data datetime\n",
        "- Seharusnya season, holiday, weekday, workingday, weathersit memiliki tipe data categorical\n",
        "- Jumlah data sudah lengkap, sebanyak 731. Sesuai dengan banyaknya hari dari 1 Januari 2011 - 31 Desember 2012"
      ]
    },
    {
      "cell_type": "markdown",
      "metadata": {},
      "source": [
        "**Cek Duplikat**"
      ]
    },
    {
      "cell_type": "code",
      "execution_count": 104,
      "metadata": {},
      "outputs": [
        {
          "data": {
            "text/plain": [
              "0      False\n",
              "1      False\n",
              "2      False\n",
              "3      False\n",
              "4      False\n",
              "       ...  \n",
              "726    False\n",
              "727    False\n",
              "728    False\n",
              "729    False\n",
              "730    False\n",
              "Length: 731, dtype: bool"
            ]
          },
          "execution_count": 104,
          "metadata": {},
          "output_type": "execute_result"
        }
      ],
      "source": [
        "# Cek apakah ada yang terduplikat\n",
        "day_df.duplicated()"
      ]
    },
    {
      "cell_type": "markdown",
      "metadata": {},
      "source": [
        "Tidak ada data yang terduplikat"
      ]
    },
    {
      "cell_type": "markdown",
      "metadata": {},
      "source": [
        "**Cek Outlier**"
      ]
    },
    {
      "cell_type": "code",
      "execution_count": 40,
      "metadata": {},
      "outputs": [
        {
          "data": {
            "text/html": [
              "<div>\n",
              "<style scoped>\n",
              "    .dataframe tbody tr th:only-of-type {\n",
              "        vertical-align: middle;\n",
              "    }\n",
              "\n",
              "    .dataframe tbody tr th {\n",
              "        vertical-align: top;\n",
              "    }\n",
              "\n",
              "    .dataframe thead th {\n",
              "        text-align: right;\n",
              "    }\n",
              "</style>\n",
              "<table border=\"1\" class=\"dataframe\">\n",
              "  <thead>\n",
              "    <tr style=\"text-align: right;\">\n",
              "      <th></th>\n",
              "      <th>instant</th>\n",
              "      <th>season</th>\n",
              "      <th>yr</th>\n",
              "      <th>mnth</th>\n",
              "      <th>holiday</th>\n",
              "      <th>weekday</th>\n",
              "      <th>workingday</th>\n",
              "      <th>weathersit</th>\n",
              "      <th>temp</th>\n",
              "      <th>atemp</th>\n",
              "      <th>hum</th>\n",
              "      <th>windspeed</th>\n",
              "      <th>casual</th>\n",
              "      <th>registered</th>\n",
              "      <th>cnt</th>\n",
              "    </tr>\n",
              "  </thead>\n",
              "  <tbody>\n",
              "    <tr>\n",
              "      <th>count</th>\n",
              "      <td>731.000000</td>\n",
              "      <td>731.000000</td>\n",
              "      <td>731.000000</td>\n",
              "      <td>731.000000</td>\n",
              "      <td>731.000000</td>\n",
              "      <td>731.000000</td>\n",
              "      <td>731.000000</td>\n",
              "      <td>731.000000</td>\n",
              "      <td>731.000000</td>\n",
              "      <td>731.000000</td>\n",
              "      <td>731.000000</td>\n",
              "      <td>731.000000</td>\n",
              "      <td>731.000000</td>\n",
              "      <td>731.000000</td>\n",
              "      <td>731.000000</td>\n",
              "    </tr>\n",
              "    <tr>\n",
              "      <th>mean</th>\n",
              "      <td>366.000000</td>\n",
              "      <td>2.496580</td>\n",
              "      <td>0.500684</td>\n",
              "      <td>6.519836</td>\n",
              "      <td>0.028728</td>\n",
              "      <td>2.997264</td>\n",
              "      <td>0.683995</td>\n",
              "      <td>1.395349</td>\n",
              "      <td>0.495385</td>\n",
              "      <td>0.474354</td>\n",
              "      <td>0.627894</td>\n",
              "      <td>0.190486</td>\n",
              "      <td>848.176471</td>\n",
              "      <td>3656.172367</td>\n",
              "      <td>4504.348837</td>\n",
              "    </tr>\n",
              "    <tr>\n",
              "      <th>std</th>\n",
              "      <td>211.165812</td>\n",
              "      <td>1.110807</td>\n",
              "      <td>0.500342</td>\n",
              "      <td>3.451913</td>\n",
              "      <td>0.167155</td>\n",
              "      <td>2.004787</td>\n",
              "      <td>0.465233</td>\n",
              "      <td>0.544894</td>\n",
              "      <td>0.183051</td>\n",
              "      <td>0.162961</td>\n",
              "      <td>0.142429</td>\n",
              "      <td>0.077498</td>\n",
              "      <td>686.622488</td>\n",
              "      <td>1560.256377</td>\n",
              "      <td>1937.211452</td>\n",
              "    </tr>\n",
              "    <tr>\n",
              "      <th>min</th>\n",
              "      <td>1.000000</td>\n",
              "      <td>1.000000</td>\n",
              "      <td>0.000000</td>\n",
              "      <td>1.000000</td>\n",
              "      <td>0.000000</td>\n",
              "      <td>0.000000</td>\n",
              "      <td>0.000000</td>\n",
              "      <td>1.000000</td>\n",
              "      <td>0.059130</td>\n",
              "      <td>0.079070</td>\n",
              "      <td>0.000000</td>\n",
              "      <td>0.022392</td>\n",
              "      <td>2.000000</td>\n",
              "      <td>20.000000</td>\n",
              "      <td>22.000000</td>\n",
              "    </tr>\n",
              "    <tr>\n",
              "      <th>25%</th>\n",
              "      <td>183.500000</td>\n",
              "      <td>2.000000</td>\n",
              "      <td>0.000000</td>\n",
              "      <td>4.000000</td>\n",
              "      <td>0.000000</td>\n",
              "      <td>1.000000</td>\n",
              "      <td>0.000000</td>\n",
              "      <td>1.000000</td>\n",
              "      <td>0.337083</td>\n",
              "      <td>0.337842</td>\n",
              "      <td>0.520000</td>\n",
              "      <td>0.134950</td>\n",
              "      <td>315.500000</td>\n",
              "      <td>2497.000000</td>\n",
              "      <td>3152.000000</td>\n",
              "    </tr>\n",
              "    <tr>\n",
              "      <th>50%</th>\n",
              "      <td>366.000000</td>\n",
              "      <td>3.000000</td>\n",
              "      <td>1.000000</td>\n",
              "      <td>7.000000</td>\n",
              "      <td>0.000000</td>\n",
              "      <td>3.000000</td>\n",
              "      <td>1.000000</td>\n",
              "      <td>1.000000</td>\n",
              "      <td>0.498333</td>\n",
              "      <td>0.486733</td>\n",
              "      <td>0.626667</td>\n",
              "      <td>0.180975</td>\n",
              "      <td>713.000000</td>\n",
              "      <td>3662.000000</td>\n",
              "      <td>4548.000000</td>\n",
              "    </tr>\n",
              "    <tr>\n",
              "      <th>75%</th>\n",
              "      <td>548.500000</td>\n",
              "      <td>3.000000</td>\n",
              "      <td>1.000000</td>\n",
              "      <td>10.000000</td>\n",
              "      <td>0.000000</td>\n",
              "      <td>5.000000</td>\n",
              "      <td>1.000000</td>\n",
              "      <td>2.000000</td>\n",
              "      <td>0.655417</td>\n",
              "      <td>0.608602</td>\n",
              "      <td>0.730209</td>\n",
              "      <td>0.233214</td>\n",
              "      <td>1096.000000</td>\n",
              "      <td>4776.500000</td>\n",
              "      <td>5956.000000</td>\n",
              "    </tr>\n",
              "    <tr>\n",
              "      <th>max</th>\n",
              "      <td>731.000000</td>\n",
              "      <td>4.000000</td>\n",
              "      <td>1.000000</td>\n",
              "      <td>12.000000</td>\n",
              "      <td>1.000000</td>\n",
              "      <td>6.000000</td>\n",
              "      <td>1.000000</td>\n",
              "      <td>3.000000</td>\n",
              "      <td>0.861667</td>\n",
              "      <td>0.840896</td>\n",
              "      <td>0.972500</td>\n",
              "      <td>0.507463</td>\n",
              "      <td>3410.000000</td>\n",
              "      <td>6946.000000</td>\n",
              "      <td>8714.000000</td>\n",
              "    </tr>\n",
              "  </tbody>\n",
              "</table>\n",
              "</div>"
            ],
            "text/plain": [
              "          instant      season          yr        mnth     holiday     weekday  \\\n",
              "count  731.000000  731.000000  731.000000  731.000000  731.000000  731.000000   \n",
              "mean   366.000000    2.496580    0.500684    6.519836    0.028728    2.997264   \n",
              "std    211.165812    1.110807    0.500342    3.451913    0.167155    2.004787   \n",
              "min      1.000000    1.000000    0.000000    1.000000    0.000000    0.000000   \n",
              "25%    183.500000    2.000000    0.000000    4.000000    0.000000    1.000000   \n",
              "50%    366.000000    3.000000    1.000000    7.000000    0.000000    3.000000   \n",
              "75%    548.500000    3.000000    1.000000   10.000000    0.000000    5.000000   \n",
              "max    731.000000    4.000000    1.000000   12.000000    1.000000    6.000000   \n",
              "\n",
              "       workingday  weathersit        temp       atemp         hum   windspeed  \\\n",
              "count  731.000000  731.000000  731.000000  731.000000  731.000000  731.000000   \n",
              "mean     0.683995    1.395349    0.495385    0.474354    0.627894    0.190486   \n",
              "std      0.465233    0.544894    0.183051    0.162961    0.142429    0.077498   \n",
              "min      0.000000    1.000000    0.059130    0.079070    0.000000    0.022392   \n",
              "25%      0.000000    1.000000    0.337083    0.337842    0.520000    0.134950   \n",
              "50%      1.000000    1.000000    0.498333    0.486733    0.626667    0.180975   \n",
              "75%      1.000000    2.000000    0.655417    0.608602    0.730209    0.233214   \n",
              "max      1.000000    3.000000    0.861667    0.840896    0.972500    0.507463   \n",
              "\n",
              "            casual   registered          cnt  \n",
              "count   731.000000   731.000000   731.000000  \n",
              "mean    848.176471  3656.172367  4504.348837  \n",
              "std     686.622488  1560.256377  1937.211452  \n",
              "min       2.000000    20.000000    22.000000  \n",
              "25%     315.500000  2497.000000  3152.000000  \n",
              "50%     713.000000  3662.000000  4548.000000  \n",
              "75%    1096.000000  4776.500000  5956.000000  \n",
              "max    3410.000000  6946.000000  8714.000000  "
            ]
          },
          "execution_count": 40,
          "metadata": {},
          "output_type": "execute_result"
        }
      ],
      "source": [
        "day_df.describe()"
      ]
    },
    {
      "cell_type": "markdown",
      "metadata": {},
      "source": [
        "Ada indikasi outlier pada variabel cuaca numerik dan jumlah user(casual, registered, cnt)"
      ]
    },
    {
      "cell_type": "code",
      "execution_count": 105,
      "metadata": {},
      "outputs": [
        {
          "name": "stdout",
          "output_type": "stream",
          "text": [
            "Outlier pada kolom temp: []\n",
            "Outlier pada kolom atemp: []\n",
            "Outlier pada kolom hum: [0.187917, 0.0]\n",
            "Outlier pada kolom windspeed: [0.417908, 0.507463, 0.385571, 0.388067, 0.422275, 0.415429, 0.409212, 0.421642, 0.441563, 0.4148, 0.386821, 0.398008, 0.407346]\n",
            "Outlier pada kolom casual: [2355, 2282, 3065, 2418, 2521, 2397, 3155, 2469, 2301, 2347, 3252, 2795, 2846, 2541, 2496, 2622, 3410, 2704, 2855, 3283, 2557, 2795, 2494, 2708, 2963, 2634, 2657, 2551, 2562, 2355, 2544, 2345, 2827, 2352, 2613, 2570, 3160, 2512, 2454, 2589, 3031, 2806, 2643, 2290]\n",
            "Outlier pada kolom registered: []\n",
            "Outlier pada kolom cnt: []\n"
          ]
        }
      ],
      "source": [
        "# Mengecek outlier, terutama pada kolom 'temp', 'atemp', 'hum', 'windspeed', 'casual', 'registered', 'cnt'\n",
        "\n",
        "# list kolom yang akan di check\n",
        "check_columns = ['temp', 'atemp', 'hum', 'windspeed', 'casual', 'registered', 'cnt']\n",
        "\n",
        "# Function untuk mendeteksi outlier, parameter data berasal dari path data\\\\hour.csv\n",
        "def detect_outliers(data):\n",
        "    q25, q75 = np.percentile(data, 25), np.percentile(data, 75) #Menemukan Q1 dan Q1\n",
        "    iqr = q75 - q25 # Menemukan IQR, dimana IQR adalah selisih Q3-Q1\n",
        "    cut_off = iqr * 1.5 # Nilai cut-off sebagai ambang batas minimum dan maksimum\n",
        "    minimum, maximum = q25 - cut_off, q75 + cut_off # Menemukan nilai batas minimum dan maksimum\n",
        "    outliers = [x for x in data if x < minimum or x > maximum]  # Apabila x lebih berada diluar nilai cut-off, maka dimasukkan ke list\n",
        "    return outliers # Return outlier yang ada\n",
        "\n",
        "# cek dengan looping\n",
        "for column in check_columns: #iterasi pada list kolom yang akan di check\n",
        "    outliers = detect_outliers(day_df[column]) # panggil fungsi detect_outliers yang sudah kita buat\n",
        "    print(f'Outlier pada kolom {column}: {outliers}') # print list outlier yang di return\n",
        "\n",
        "\n"
      ]
    },
    {
      "cell_type": "markdown",
      "metadata": {},
      "source": [
        "Beberapa outlier jumlahnya banyak dan dan dapat dijelaskan secara alami kecuali salah satu outlier hum dengan nilai 0.9"
      ]
    },
    {
      "cell_type": "markdown",
      "metadata": {
        "id": "7dtxhAPrkhPL"
      },
      "source": [
        "**Insight:**\n",
        "\n",
        "- Kolom dteday bertipe data object, seharusnya tipe datanya adalah datetime64. \n",
        "- Berdasarkan keterangan dataset, kolom season, holiday, weekday, workingday, dan weathersit adalah data kategorikal. Oleh karena itu kita akan ganti tipe datanya menjadi categorical.\n",
        "\n",
        "\n",
        "*df_hour*\n",
        "- Jumlah dari semua kolum semua, yaitu 17389. Berarti tidak ada missing value.\n",
        "- Disini saya menyadari bahwa seharusnya total ada 17544 jam dalam rentang waktu 1 Januari 2011 - 31 Desember 2012. Masing - masing jam (0-23) ada sebanyak 731 kali. Setelah dicek, ternyata ada beberapa data jam yang tidak ada atau row nya hilang. Data tersebut dapat kita interpolasi. Caranya dengan kita menghitung mean casual dan registered pada masing-masing jam dan menambahkannya pada row-row baru yang akan melengkapi  jam yang hilang di dataframe\n",
        "- Tidak ada data yang terduplikasi.\n",
        "- Kita akan berfokus pada kolom instant, dteday, hr, casual, registered, dan cnt untuk mengetahui rentang jam optimnal pengguna. Oleh karena itu, kita bisa drop kolom lainnya pada dataframe ini\n",
        "\n",
        "\n",
        "\n",
        "\n",
        "*df_day*\n",
        "- Jumlah dari semua kolum sama, yaitu 731. Berarti tidak missing value. Jumlah data sesuai dengan jumlah rentang hari dari 1 Januari 2011 - 31 Desember 2012\n",
        "- Tidak ada data yang terduplikasi.\n",
        "- Ada beberapa nilai maksimum yang tinggi, hal itu lebih mengindikasikan kepada outlier yang nyata daripada kesalahan pada input data.\n",
        "- Ada nilai minimum bernilai 0, yaitu pada kolom hum.\n",
        "- Outlier ditemukan pada kolom hum, windspeed, dan casual. Meskipun begitu, fluktuasi pada kolom casual berjumlah banyak dan berada pada angka yang konsisten, mengindikasikan kepada hari-hari tertentu atau acara tertentu yang dapat meningkatkan jumlah user casual di hari tersebut bertambah \n",
        "- Begitu pula dengan windspeed, outlier banyak dan masih masuk akal.\n",
        "- Kolom hum memiliki outlier 0.0, hal ini mengindikasikan inaccurate data atau kesalahan manusia.\n",
        "- Kita akan memilih kolom temp dan akan melakukan drop kolom atemp\n"
      ]
    },
    {
      "cell_type": "markdown",
      "metadata": {
        "id": "EhN5R4hr8DC1"
      },
      "source": [
        "### Cleaning Data"
      ]
    },
    {
      "cell_type": "markdown",
      "metadata": {},
      "source": [
        "### *hour_df*"
      ]
    },
    {
      "cell_type": "markdown",
      "metadata": {},
      "source": [
        "**Perbaiki Tipe Data dan drop kolom yang tidak digunakan**"
      ]
    },
    {
      "cell_type": "code",
      "execution_count": 106,
      "metadata": {},
      "outputs": [],
      "source": [
        "# Mengganti tipe data kolom dteday dari object ke datetime64\n",
        "datetime_columns = [\"dteday\"]\n",
        " \n",
        "for column in datetime_columns:\n",
        "  day_df[column] = pd.to_datetime(day_df[column])"
      ]
    },
    {
      "cell_type": "code",
      "execution_count": 107,
      "metadata": {},
      "outputs": [],
      "source": [
        "# Melakukan drop kolom selain 'instant', 'dteday', 'hr', 'casual', 'registered', 'cnt'\n",
        "hour_df = hour_df[['instant', 'dteday', 'hr', 'casual', 'registered', 'cnt']]"
      ]
    },
    {
      "cell_type": "code",
      "execution_count": 108,
      "metadata": {},
      "outputs": [
        {
          "name": "stdout",
          "output_type": "stream",
          "text": [
            "<class 'pandas.core.frame.DataFrame'>\n",
            "RangeIndex: 17379 entries, 0 to 17378\n",
            "Data columns (total 6 columns):\n",
            " #   Column      Non-Null Count  Dtype \n",
            "---  ------      --------------  ----- \n",
            " 0   instant     17379 non-null  int64 \n",
            " 1   dteday      17379 non-null  object\n",
            " 2   hr          17379 non-null  int64 \n",
            " 3   casual      17379 non-null  int64 \n",
            " 4   registered  17379 non-null  int64 \n",
            " 5   cnt         17379 non-null  int64 \n",
            "dtypes: int64(5), object(1)\n",
            "memory usage: 814.8+ KB\n"
          ]
        }
      ],
      "source": [
        "#cek lagi apakah berhasil\n",
        "hour_df.info()"
      ]
    },
    {
      "cell_type": "markdown",
      "metadata": {},
      "source": [
        "Tipe data berhasil diganti dan kolom yang tersisa sudah sesuai"
      ]
    },
    {
      "cell_type": "markdown",
      "metadata": {},
      "source": [
        "**Mencari Mean**\n",
        "\n",
        "Karena ada beberapa row atau baris data jam yang hilang, kita harus menyesuaikannya menjadi 731 dengan melakukan teknik interpolasi. Disini, kita akan mengisi baris data baru dengan mean dari registered dan casual per jam"
      ]
    },
    {
      "cell_type": "code",
      "execution_count": 109,
      "metadata": {},
      "outputs": [
        {
          "name": "stdout",
          "output_type": "stream",
          "text": [
            "    registered  casual\n",
            "hr                    \n",
            "0           44      10\n",
            "1           27       7\n",
            "2           18       5\n",
            "3            9       3\n",
            "4            5       1\n",
            "5           18       1\n",
            "6           72       4\n",
            "7          201      11\n",
            "8          337      22\n",
            "9          188      31\n",
            "10         127      46\n",
            "11         149      60\n",
            "12         185      68\n",
            "13         181      72\n",
            "14         165      76\n",
            "15         176      75\n",
            "16         238      74\n",
            "17         387      74\n",
            "18         364      61\n",
            "19         263      49\n",
            "20         190      36\n",
            "21         144      28\n",
            "22         109      22\n",
            "23          73      15\n"
          ]
        }
      ],
      "source": [
        "# Kita cari mean registered dan casual dari masing - masing jam untuk mengisi data yang tidak ada, kemudian kita ganti data typenya ke integer\n",
        "mean_hourly = hour_df.groupby('hr')[['registered', 'casual']].mean().round().astype(int)\n",
        "\n",
        "print(mean_hourly)"
      ]
    },
    {
      "cell_type": "code",
      "execution_count": null,
      "metadata": {},
      "outputs": [],
      "source": []
    },
    {
      "cell_type": "markdown",
      "metadata": {},
      "source": [
        "**Melengkapi data jam yang hilang dengan interpolasi**\n",
        "\n",
        "- Membuat dataframe baru dimana semua kolom hr lengkap dari range 1 Januari 2011 - 31 Desember 2012\n",
        "- Menggabungkan dataframe tersebut dengan dataframe hour_df menjadi hourmerged_df\n",
        "- Menambahkan kolom instant sebagai ID\n",
        "- Menambahkan kolom interpolated untuk menandai apakah data tersebut terinterpolated\n",
        "- Masukkan mean - mean yang sudah kita hitung sebelumnya ke dalam dataframe\n",
        "- Menghitung jumlah cnt dengan registerd + casual"
      ]
    },
    {
      "cell_type": "code",
      "execution_count": 110,
      "metadata": {},
      "outputs": [
        {
          "name": "stdout",
          "output_type": "stream",
          "text": [
            "          dteday  hr  instant  casual  registered  cnt  interpolated\n",
            "0     2011-01-01   0        1       3          13   16         False\n",
            "1     2011-01-01   1        2       8          32   40         False\n",
            "2     2011-01-01   2        3       5          27   32         False\n",
            "3     2011-01-01   3        4       3          10   13         False\n",
            "4     2011-01-01   4        5       0           1    1         False\n",
            "...          ...  ..      ...     ...         ...  ...           ...\n",
            "17539 2012-12-31  19    17540      11         108  119         False\n",
            "17540 2012-12-31  20    17541       8          81   89         False\n",
            "17541 2012-12-31  21    17542       7          83   90         False\n",
            "17542 2012-12-31  22    17543      13          48   61         False\n",
            "17543 2012-12-31  23    17544      12          37   49         False\n",
            "\n",
            "[17544 rows x 7 columns]\n",
            "Number of rows in hourmergedfixed_df: 17544\n"
          ]
        }
      ],
      "source": [
        "# Melengkapi data row hari yang hilang\n",
        "\n",
        "# Buat dataframe yang lengkap untuk tanggal 1 Januari 2011 - 31 Desember 2012\n",
        "hour_df['dteday'] = pd.to_datetime(hour_df['dteday'])  # Pastikan dteday menggunakan datetime data type\n",
        "complete_dates = pd.date_range(start='2011-01-01', end='2012-12-31')  # Definisikan range\n",
        "complete_data = pd.MultiIndex.from_product([complete_dates, range(24)], names=['dteday', 'hr'])\n",
        "complete_df = pd.DataFrame(index=complete_data).reset_index()\n",
        "\n",
        "# kita gabungkan dataframe tersebut dengan dataframe awal untuk membuat dataframe baru, sehingga row date yang hilang muncul\n",
        "hourmerged_df = pd.merge(complete_df, hour_df, on=['dteday', 'hr'], how='left')\n",
        "\n",
        "# kita tambahkan kolom instant sebagai ID untuk setiap row\n",
        "hourmerged_df['instant'] = np.arange(1, len(hourmerged_df) + 1)  # Menambahkan kolom ID (instant)\n",
        "\n",
        "# kita tambahkan kolom 'interpolated' untuk menandai data yang interpolated\n",
        "hourmerged_df['interpolated'] = hourmerged_df['cnt'].isna()  # Menandai dimana data missing\n",
        "\n",
        "# kita definisikan mean registered dan casual yang sudah kita cari sebelumnya\n",
        "average_counts = {\n",
        "    0: {'registered': 44, 'casual': 10},\n",
        "    1: {'registered': 27, 'casual': 7},\n",
        "    2: {'registered': 18, 'casual': 5},\n",
        "    3: {'registered': 9,  'casual': 3},\n",
        "    4: {'registered': 5,  'casual': 1},\n",
        "    5: {'registered': 18, 'casual': 1},\n",
        "    6: {'registered': 72, 'casual': 4},\n",
        "    7: {'registered': 201, 'casual': 11},\n",
        "    8: {'registered': 337, 'casual': 22},\n",
        "    9: {'registered': 188, 'casual': 31},\n",
        "    10: {'registered': 127, 'casual': 46},\n",
        "    11: {'registered': 149, 'casual': 60},\n",
        "    12: {'registered': 185, 'casual': 68},\n",
        "    13: {'registered': 181, 'casual': 72},\n",
        "    14: {'registered': 165, 'casual': 76},\n",
        "    15: {'registered': 176, 'casual': 75},\n",
        "    16: {'registered': 238, 'casual': 74},\n",
        "    17: {'registered': 387, 'casual': 74},\n",
        "    18: {'registered': 364, 'casual': 61},\n",
        "    19: {'registered': 263, 'casual': 49},\n",
        "    20: {'registered': 190, 'casual': 36},\n",
        "    21: {'registered': 144, 'casual': 28},\n",
        "    22: {'registered': 109, 'casual': 22},\n",
        "    23: {'registered': 73, 'casual': 15}\n",
        "}\n",
        "\n",
        "# Masukkan mean-mean tersebut untuk mengisi kolom registered dan casual pada dataframe baru\n",
        "for hour in range(24):\n",
        "    hour_mask = (hourmerged_df['hr'] == hour) & (hourmerged_df['registered'].isna())\n",
        "    hourmerged_df.loc[hour_mask, 'registered'] = average_counts[hour]['registered']\n",
        "    hourmerged_df.loc[hour_mask, 'casual'] = average_counts[hour]['casual']\n",
        "\n",
        "# Untuk setiap kolom cnt, kita jumlahkan registered + casual\n",
        "hourmerged_df['cnt'] = hourmerged_df['registered'] + hourmerged_df['casual']\n",
        "\n",
        "# kita pastikan agar ketiga kolom tersebut menggunakan tipe data int\n",
        "hourmerged_df['cnt'] = hourmerged_df['cnt'].astype(int)\n",
        "hourmerged_df['registered'] = hourmerged_df['registered'].astype(int)\n",
        "hourmerged_df['casual'] = hourmerged_df['casual'].astype(int)\n",
        "\n",
        "# kita cek dataframe baru\n",
        "print(hourmerged_df)\n",
        "\n",
        "# simpan dataframe baru ke csv\n",
        "hourmerged_df.to_csv(\"hourmergedfixed_df.csv\", index=False)\n",
        "\n",
        "# kita cek apakah jumlah data sudah benar menjadi 17544\n",
        "print(f\"Number of rows in hourmergedfixed_df: {len(hourmerged_df)}\")"
      ]
    },
    {
      "cell_type": "markdown",
      "metadata": {},
      "source": [
        "Disini dapat kita lihat bahwa dataframe sudah memenuhi kebutuhan kita "
      ]
    },
    {
      "cell_type": "markdown",
      "metadata": {},
      "source": [
        "### *day_df*"
      ]
    },
    {
      "cell_type": "markdown",
      "metadata": {},
      "source": [
        "**Mapping untuk konversi nilai beberapa kolom ke tipe data categorical dan ganti tipe data dteday ke datetime**\n"
      ]
    },
    {
      "cell_type": "code",
      "execution_count": 111,
      "metadata": {},
      "outputs": [],
      "source": [
        "\n",
        "\n",
        "# Map untuk season\n",
        "day_df['season'] = day_df['season'].map({\n",
        "    1: 'Spring', \n",
        "    2: 'Summer', \n",
        "    3: 'Fall', \n",
        "    4: 'Winter'\n",
        "})\n",
        "\n",
        "# Map untuk holiday\n",
        "day_df['holiday'] = day_df['holiday'].map({\n",
        "    0: 'No Holiday', \n",
        "    1: 'Holiday'\n",
        "})\n",
        "\n",
        "# Map untuk weekday\n",
        "day_df['weekday'] = day_df['weekday'].map({\n",
        "    0: 'Sunday', \n",
        "    1: 'Monday', \n",
        "    2: 'Tuesday', \n",
        "    3: 'Wednesday', \n",
        "    4: 'Thursday', \n",
        "    5: 'Friday', \n",
        "    6: 'Saturday'\n",
        "})\n",
        "\n",
        "# Map untuk workingday\n",
        "day_df['workingday'] = day_df['workingday'].map({\n",
        "    0: 'Not Working Day', \n",
        "    1: 'Working Day'\n",
        "})\n",
        "\n",
        "# Map untuk weathersit\n",
        "day_df['weathersit'] = day_df['weathersit'].map({\n",
        "    1: 'Clear, Few clouds, Partly cloudy', \n",
        "    2: 'Mist + Cloudy, Mist + Broken clouds, Mist + Few clouds', \n",
        "    3: 'Light Snow, Light Rain + Thunderstorm + Scattered clouds', \n",
        "    4: 'Heavy Rain + Ice Pallets + Thunderstorm + Mist, Snow + Fog'\n",
        "})\n",
        "\n",
        "# Setelah mapping, ubah tipe datanya menjadi kategorikal\n",
        "day_df['season'] = day_df['season'].astype('category')\n",
        "day_df['holiday'] = day_df['holiday'].astype('category')\n",
        "day_df['weekday'] = day_df['weekday'].astype('category')\n",
        "day_df['workingday'] = day_df['workingday'].astype('category')\n",
        "day_df['weathersit'] = day_df['weathersit'].astype('category')"
      ]
    },
    {
      "cell_type": "code",
      "execution_count": 112,
      "metadata": {
        "id": "jVnYpprE9Evz"
      },
      "outputs": [],
      "source": [
        "# Mengganti tipe data kolom dteday dari object ke datetime64\n",
        "datetime_columns = [\"dteday\"]\n",
        " \n",
        "for column in datetime_columns:\n",
        "  day_df[column] = pd.to_datetime(day_df[column])"
      ]
    },
    {
      "cell_type": "code",
      "execution_count": 113,
      "metadata": {},
      "outputs": [
        {
          "name": "stdout",
          "output_type": "stream",
          "text": [
            "<class 'pandas.core.frame.DataFrame'>\n",
            "RangeIndex: 731 entries, 0 to 730\n",
            "Data columns (total 16 columns):\n",
            " #   Column      Non-Null Count  Dtype         \n",
            "---  ------      --------------  -----         \n",
            " 0   instant     731 non-null    int64         \n",
            " 1   dteday      731 non-null    datetime64[ns]\n",
            " 2   season      731 non-null    category      \n",
            " 3   yr          731 non-null    int64         \n",
            " 4   mnth        731 non-null    int64         \n",
            " 5   holiday     731 non-null    category      \n",
            " 6   weekday     731 non-null    category      \n",
            " 7   workingday  731 non-null    category      \n",
            " 8   weathersit  731 non-null    category      \n",
            " 9   temp        731 non-null    float64       \n",
            " 10  atemp       731 non-null    float64       \n",
            " 11  hum         731 non-null    float64       \n",
            " 12  windspeed   731 non-null    float64       \n",
            " 13  casual      731 non-null    int64         \n",
            " 14  registered  731 non-null    int64         \n",
            " 15  cnt         731 non-null    int64         \n",
            "dtypes: category(5), datetime64[ns](1), float64(4), int64(6)\n",
            "memory usage: 67.4 KB\n"
          ]
        }
      ],
      "source": [
        "# cek lagi apakah berhasil diganti\n",
        "day_df.info()"
      ]
    },
    {
      "cell_type": "markdown",
      "metadata": {},
      "source": [
        "Tipe-tipe data berhasil diganti"
      ]
    },
    {
      "cell_type": "markdown",
      "metadata": {},
      "source": [
        "**Menangani Outlier**\n",
        "\n",
        "Gunakan interpolasi, ganti nilai 0.0 dengan nilai rata-rata"
      ]
    },
    {
      "cell_type": "code",
      "execution_count": 114,
      "metadata": {},
      "outputs": [
        {
          "data": {
            "text/html": [
              "<div>\n",
              "<style scoped>\n",
              "    .dataframe tbody tr th:only-of-type {\n",
              "        vertical-align: middle;\n",
              "    }\n",
              "\n",
              "    .dataframe tbody tr th {\n",
              "        vertical-align: top;\n",
              "    }\n",
              "\n",
              "    .dataframe thead th {\n",
              "        text-align: right;\n",
              "    }\n",
              "</style>\n",
              "<table border=\"1\" class=\"dataframe\">\n",
              "  <thead>\n",
              "    <tr style=\"text-align: right;\">\n",
              "      <th></th>\n",
              "      <th>instant</th>\n",
              "      <th>dteday</th>\n",
              "      <th>yr</th>\n",
              "      <th>mnth</th>\n",
              "      <th>temp</th>\n",
              "      <th>atemp</th>\n",
              "      <th>hum</th>\n",
              "      <th>windspeed</th>\n",
              "      <th>casual</th>\n",
              "      <th>registered</th>\n",
              "      <th>cnt</th>\n",
              "    </tr>\n",
              "  </thead>\n",
              "  <tbody>\n",
              "    <tr>\n",
              "      <th>count</th>\n",
              "      <td>731.000000</td>\n",
              "      <td>731</td>\n",
              "      <td>731.000000</td>\n",
              "      <td>731.000000</td>\n",
              "      <td>731.000000</td>\n",
              "      <td>731.000000</td>\n",
              "      <td>731.000000</td>\n",
              "      <td>731.000000</td>\n",
              "      <td>731.000000</td>\n",
              "      <td>731.000000</td>\n",
              "      <td>731.000000</td>\n",
              "    </tr>\n",
              "    <tr>\n",
              "      <th>mean</th>\n",
              "      <td>366.000000</td>\n",
              "      <td>2012-01-01 00:00:00</td>\n",
              "      <td>0.500684</td>\n",
              "      <td>6.519836</td>\n",
              "      <td>0.495385</td>\n",
              "      <td>0.474354</td>\n",
              "      <td>0.628754</td>\n",
              "      <td>0.190486</td>\n",
              "      <td>848.176471</td>\n",
              "      <td>3656.172367</td>\n",
              "      <td>4504.348837</td>\n",
              "    </tr>\n",
              "    <tr>\n",
              "      <th>min</th>\n",
              "      <td>1.000000</td>\n",
              "      <td>2011-01-01 00:00:00</td>\n",
              "      <td>0.000000</td>\n",
              "      <td>1.000000</td>\n",
              "      <td>0.059130</td>\n",
              "      <td>0.079070</td>\n",
              "      <td>0.187917</td>\n",
              "      <td>0.022392</td>\n",
              "      <td>2.000000</td>\n",
              "      <td>20.000000</td>\n",
              "      <td>22.000000</td>\n",
              "    </tr>\n",
              "    <tr>\n",
              "      <th>25%</th>\n",
              "      <td>183.500000</td>\n",
              "      <td>2011-07-02 12:00:00</td>\n",
              "      <td>0.000000</td>\n",
              "      <td>4.000000</td>\n",
              "      <td>0.337083</td>\n",
              "      <td>0.337842</td>\n",
              "      <td>0.521041</td>\n",
              "      <td>0.134950</td>\n",
              "      <td>315.500000</td>\n",
              "      <td>2497.000000</td>\n",
              "      <td>3152.000000</td>\n",
              "    </tr>\n",
              "    <tr>\n",
              "      <th>50%</th>\n",
              "      <td>366.000000</td>\n",
              "      <td>2012-01-01 00:00:00</td>\n",
              "      <td>1.000000</td>\n",
              "      <td>7.000000</td>\n",
              "      <td>0.498333</td>\n",
              "      <td>0.486733</td>\n",
              "      <td>0.627500</td>\n",
              "      <td>0.180975</td>\n",
              "      <td>713.000000</td>\n",
              "      <td>3662.000000</td>\n",
              "      <td>4548.000000</td>\n",
              "    </tr>\n",
              "    <tr>\n",
              "      <th>75%</th>\n",
              "      <td>548.500000</td>\n",
              "      <td>2012-07-01 12:00:00</td>\n",
              "      <td>1.000000</td>\n",
              "      <td>10.000000</td>\n",
              "      <td>0.655417</td>\n",
              "      <td>0.608602</td>\n",
              "      <td>0.730209</td>\n",
              "      <td>0.233214</td>\n",
              "      <td>1096.000000</td>\n",
              "      <td>4776.500000</td>\n",
              "      <td>5956.000000</td>\n",
              "    </tr>\n",
              "    <tr>\n",
              "      <th>max</th>\n",
              "      <td>731.000000</td>\n",
              "      <td>2012-12-31 00:00:00</td>\n",
              "      <td>1.000000</td>\n",
              "      <td>12.000000</td>\n",
              "      <td>0.861667</td>\n",
              "      <td>0.840896</td>\n",
              "      <td>0.972500</td>\n",
              "      <td>0.507463</td>\n",
              "      <td>3410.000000</td>\n",
              "      <td>6946.000000</td>\n",
              "      <td>8714.000000</td>\n",
              "    </tr>\n",
              "    <tr>\n",
              "      <th>std</th>\n",
              "      <td>211.165812</td>\n",
              "      <td>NaN</td>\n",
              "      <td>0.500342</td>\n",
              "      <td>3.451913</td>\n",
              "      <td>0.183051</td>\n",
              "      <td>0.162961</td>\n",
              "      <td>0.140518</td>\n",
              "      <td>0.077498</td>\n",
              "      <td>686.622488</td>\n",
              "      <td>1560.256377</td>\n",
              "      <td>1937.211452</td>\n",
              "    </tr>\n",
              "  </tbody>\n",
              "</table>\n",
              "</div>"
            ],
            "text/plain": [
              "          instant               dteday          yr        mnth        temp  \\\n",
              "count  731.000000                  731  731.000000  731.000000  731.000000   \n",
              "mean   366.000000  2012-01-01 00:00:00    0.500684    6.519836    0.495385   \n",
              "min      1.000000  2011-01-01 00:00:00    0.000000    1.000000    0.059130   \n",
              "25%    183.500000  2011-07-02 12:00:00    0.000000    4.000000    0.337083   \n",
              "50%    366.000000  2012-01-01 00:00:00    1.000000    7.000000    0.498333   \n",
              "75%    548.500000  2012-07-01 12:00:00    1.000000   10.000000    0.655417   \n",
              "max    731.000000  2012-12-31 00:00:00    1.000000   12.000000    0.861667   \n",
              "std    211.165812                  NaN    0.500342    3.451913    0.183051   \n",
              "\n",
              "            atemp         hum   windspeed       casual   registered  \\\n",
              "count  731.000000  731.000000  731.000000   731.000000   731.000000   \n",
              "mean     0.474354    0.628754    0.190486   848.176471  3656.172367   \n",
              "min      0.079070    0.187917    0.022392     2.000000    20.000000   \n",
              "25%      0.337842    0.521041    0.134950   315.500000  2497.000000   \n",
              "50%      0.486733    0.627500    0.180975   713.000000  3662.000000   \n",
              "75%      0.608602    0.730209    0.233214  1096.000000  4776.500000   \n",
              "max      0.840896    0.972500    0.507463  3410.000000  6946.000000   \n",
              "std      0.162961    0.140518    0.077498   686.622488  1560.256377   \n",
              "\n",
              "               cnt  \n",
              "count   731.000000  \n",
              "mean   4504.348837  \n",
              "min      22.000000  \n",
              "25%    3152.000000  \n",
              "50%    4548.000000  \n",
              "75%    5956.000000  \n",
              "max    8714.000000  \n",
              "std    1937.211452  "
            ]
          },
          "execution_count": 114,
          "metadata": {},
          "output_type": "execute_result"
        }
      ],
      "source": [
        "# Menghitung rata-rata kolom 'hum' yang tidak bernilai 0.0\n",
        "average_hum = day_df['hum'].mask(day_df['hum'] == 0).mean()\n",
        "\n",
        "# Menggunakan mask() untuk mengganti nilai 0.0 dengan nilai rata-rata\n",
        "day_df['hum'] = day_df['hum'].mask(day_df['hum'] == 0.0, average_hum)\n",
        "\n",
        "# Cek perubahan pada dataframe\n",
        "day_df.describe()"
      ]
    },
    {
      "cell_type": "markdown",
      "metadata": {
        "id": "Q_5ejIqckiSP"
      },
      "source": [
        "**Insight:**\n",
        "\n",
        "*hour_df*\n",
        "- Kita berhasil mengganti tipe dteday ke datetime64\n",
        "- Kita berhasil membuat dataframe baru yang mempunya jumlah data debanyak 17544, sehingga sesuai dengan jumlah jam pada rentang waktu 1 Januari 2011 - 31 Februari 2012. Row-row baru tersebut, untuk nilai registered dan casual kita isi dengan mean kolom tersebut per jam.\n",
        "- Dataframe baru tersebut kita namakan hourmeged_df\n",
        "- Di dalam dataframe baru, kitabBerhasil melakukan drop kolom selain instant, dteday, hr, casual, registered, cnt\n",
        "\n",
        "*day_df*\n",
        "\n",
        "- Kita berhasil mengganti tipe dteday ke datetime64\n",
        "- Berhasil melakukan mapping nilai untuk kolom season, holiday, weekday, workingday dan weather sit. Kemudian mengkonversi kolom - kolom tersebut ke tipe data categorical\n",
        "- Menangani outlier pada kolom hum dengan teknik Imputation dengan mask(), mengganti outlier tersebut dengan mean kolom hum"
      ]
    },
    {
      "cell_type": "markdown",
      "metadata": {
        "id": "gp-Y6wU38DC1"
      },
      "source": [
        "## Exploratory Data Analysis (EDA)"
      ]
    },
    {
      "cell_type": "markdown",
      "metadata": {},
      "source": [
        "### Explore hour_df"
      ]
    },
    {
      "cell_type": "code",
      "execution_count": 115,
      "metadata": {},
      "outputs": [
        {
          "data": {
            "text/html": [
              "<div>\n",
              "<style scoped>\n",
              "    .dataframe tbody tr th:only-of-type {\n",
              "        vertical-align: middle;\n",
              "    }\n",
              "\n",
              "    .dataframe tbody tr th {\n",
              "        vertical-align: top;\n",
              "    }\n",
              "\n",
              "    .dataframe thead th {\n",
              "        text-align: right;\n",
              "    }\n",
              "</style>\n",
              "<table border=\"1\" class=\"dataframe\">\n",
              "  <thead>\n",
              "    <tr style=\"text-align: right;\">\n",
              "      <th></th>\n",
              "      <th>dteday</th>\n",
              "      <th>hr</th>\n",
              "      <th>instant</th>\n",
              "      <th>casual</th>\n",
              "      <th>registered</th>\n",
              "      <th>cnt</th>\n",
              "      <th>interpolated</th>\n",
              "    </tr>\n",
              "  </thead>\n",
              "  <tbody>\n",
              "    <tr>\n",
              "      <th>count</th>\n",
              "      <td>17544</td>\n",
              "      <td>17544.000000</td>\n",
              "      <td>17544.000000</td>\n",
              "      <td>17544.000000</td>\n",
              "      <td>17544.000000</td>\n",
              "      <td>17544.000000</td>\n",
              "      <td>17544</td>\n",
              "    </tr>\n",
              "    <tr>\n",
              "      <th>unique</th>\n",
              "      <td>NaN</td>\n",
              "      <td>NaN</td>\n",
              "      <td>NaN</td>\n",
              "      <td>NaN</td>\n",
              "      <td>NaN</td>\n",
              "      <td>NaN</td>\n",
              "      <td>2</td>\n",
              "    </tr>\n",
              "    <tr>\n",
              "      <th>top</th>\n",
              "      <td>NaN</td>\n",
              "      <td>NaN</td>\n",
              "      <td>NaN</td>\n",
              "      <td>NaN</td>\n",
              "      <td>NaN</td>\n",
              "      <td>NaN</td>\n",
              "      <td>False</td>\n",
              "    </tr>\n",
              "    <tr>\n",
              "      <th>freq</th>\n",
              "      <td>NaN</td>\n",
              "      <td>NaN</td>\n",
              "      <td>NaN</td>\n",
              "      <td>NaN</td>\n",
              "      <td>NaN</td>\n",
              "      <td>NaN</td>\n",
              "      <td>17379</td>\n",
              "    </tr>\n",
              "    <tr>\n",
              "      <th>mean</th>\n",
              "      <td>2012-01-01 00:00:00</td>\n",
              "      <td>11.500000</td>\n",
              "      <td>8772.500000</td>\n",
              "      <td>35.481133</td>\n",
              "      <td>152.997036</td>\n",
              "      <td>188.478169</td>\n",
              "      <td>NaN</td>\n",
              "    </tr>\n",
              "    <tr>\n",
              "      <th>min</th>\n",
              "      <td>2011-01-01 00:00:00</td>\n",
              "      <td>0.000000</td>\n",
              "      <td>1.000000</td>\n",
              "      <td>0.000000</td>\n",
              "      <td>0.000000</td>\n",
              "      <td>1.000000</td>\n",
              "      <td>NaN</td>\n",
              "    </tr>\n",
              "    <tr>\n",
              "      <th>25%</th>\n",
              "      <td>2011-07-02 00:00:00</td>\n",
              "      <td>5.750000</td>\n",
              "      <td>4386.750000</td>\n",
              "      <td>4.000000</td>\n",
              "      <td>33.000000</td>\n",
              "      <td>39.000000</td>\n",
              "      <td>NaN</td>\n",
              "    </tr>\n",
              "    <tr>\n",
              "      <th>50%</th>\n",
              "      <td>2012-01-01 00:00:00</td>\n",
              "      <td>11.500000</td>\n",
              "      <td>8772.500000</td>\n",
              "      <td>16.000000</td>\n",
              "      <td>115.000000</td>\n",
              "      <td>141.000000</td>\n",
              "      <td>NaN</td>\n",
              "    </tr>\n",
              "    <tr>\n",
              "      <th>75%</th>\n",
              "      <td>2012-07-02 00:00:00</td>\n",
              "      <td>17.250000</td>\n",
              "      <td>13158.250000</td>\n",
              "      <td>48.000000</td>\n",
              "      <td>219.000000</td>\n",
              "      <td>280.000000</td>\n",
              "      <td>NaN</td>\n",
              "    </tr>\n",
              "    <tr>\n",
              "      <th>max</th>\n",
              "      <td>2012-12-31 00:00:00</td>\n",
              "      <td>23.000000</td>\n",
              "      <td>17544.000000</td>\n",
              "      <td>367.000000</td>\n",
              "      <td>886.000000</td>\n",
              "      <td>977.000000</td>\n",
              "      <td>NaN</td>\n",
              "    </tr>\n",
              "    <tr>\n",
              "      <th>std</th>\n",
              "      <td>NaN</td>\n",
              "      <td>6.922384</td>\n",
              "      <td>5064.660897</td>\n",
              "      <td>49.159123</td>\n",
              "      <td>151.141839</td>\n",
              "      <td>181.145490</td>\n",
              "      <td>NaN</td>\n",
              "    </tr>\n",
              "  </tbody>\n",
              "</table>\n",
              "</div>"
            ],
            "text/plain": [
              "                     dteday            hr       instant        casual  \\\n",
              "count                 17544  17544.000000  17544.000000  17544.000000   \n",
              "unique                  NaN           NaN           NaN           NaN   \n",
              "top                     NaN           NaN           NaN           NaN   \n",
              "freq                    NaN           NaN           NaN           NaN   \n",
              "mean    2012-01-01 00:00:00     11.500000   8772.500000     35.481133   \n",
              "min     2011-01-01 00:00:00      0.000000      1.000000      0.000000   \n",
              "25%     2011-07-02 00:00:00      5.750000   4386.750000      4.000000   \n",
              "50%     2012-01-01 00:00:00     11.500000   8772.500000     16.000000   \n",
              "75%     2012-07-02 00:00:00     17.250000  13158.250000     48.000000   \n",
              "max     2012-12-31 00:00:00     23.000000  17544.000000    367.000000   \n",
              "std                     NaN      6.922384   5064.660897     49.159123   \n",
              "\n",
              "          registered           cnt interpolated  \n",
              "count   17544.000000  17544.000000        17544  \n",
              "unique           NaN           NaN            2  \n",
              "top              NaN           NaN        False  \n",
              "freq             NaN           NaN        17379  \n",
              "mean      152.997036    188.478169          NaN  \n",
              "min         0.000000      1.000000          NaN  \n",
              "25%        33.000000     39.000000          NaN  \n",
              "50%       115.000000    141.000000          NaN  \n",
              "75%       219.000000    280.000000          NaN  \n",
              "max       886.000000    977.000000          NaN  \n",
              "std       151.141839    181.145490          NaN  "
            ]
          },
          "execution_count": 115,
          "metadata": {},
          "output_type": "execute_result"
        }
      ],
      "source": [
        "hourmerged_df.describe(include=\"all\")"
      ]
    },
    {
      "cell_type": "markdown",
      "metadata": {},
      "source": [
        "Disini kita memastikan bahwa dapat melihat bahwa nilai registered relatif lebih banyak daripada nilai casual"
      ]
    },
    {
      "cell_type": "code",
      "execution_count": 116,
      "metadata": {},
      "outputs": [
        {
          "name": "stdout",
          "output_type": "stream",
          "text": [
            "    hr  casual  registered     cnt\n",
            "0    0    7425       31975   39400\n",
            "1    1    4758       19644   24402\n",
            "2    2    3492       13228   16720\n",
            "3    3    1995        6587    8582\n",
            "4    4     908        3724    4632\n",
            "5    5    1026       13501   14527\n",
            "6    6    3041       52547   55588\n",
            "7    7    8081      146938  155019\n",
            "8    8   15849      246588  262437\n",
            "9    9   22582      137732  160314\n",
            "10  10   33973       92976  126949\n",
            "11  11   43526      108630  152156\n",
            "12  12   49922      135251  185173\n",
            "13  13   52857      132568  185425\n",
            "14  14   55241      120893  176134\n",
            "15  15   54756      128895  183651\n",
            "16  16   53908      174152  228060\n",
            "17  17   54294      283027  337321\n",
            "18  18   44679      266368  311047\n",
            "19  19   35652      192073  227725\n",
            "20  20   26486      138742  165228\n",
            "21  21   20654      105307  125961\n",
            "22  22   16266       79739   96005\n",
            "23  23   11110       53095   64205\n"
          ]
        }
      ],
      "source": [
        "# Mengelompokkan berdasarkan kolom hr dan menghitung total untuk kolom casual, registered, dan cnt\n",
        "total_users_per_hour = hourmerged_df.groupby('hr')[['casual', 'registered', 'cnt']].sum().reset_index()\n",
        "\n",
        "# Tampilkan hasil\n",
        "print(total_users_per_hour)"
      ]
    },
    {
      "cell_type": "markdown",
      "metadata": {},
      "source": [
        "Disini dapat dilihat bahwa banyak user yang menggunakan sepeda ketika tengah malam, hal tersebut secara perlahan mmenurun sampai jam 4 pagi. Terlihat kenaikan sejak jam 5 dimana loncatan dari Jam 6, 7, sampai 8 sangat drastis sebelum menurun lagi dari Jam 9 - jam 10. Terjadi kenaikan lagi dari Jam 11 hingga 12, dimana jumlah user relatif stagnan sampai kenaikan drastis dari jam 4 sore - jam 5 sore. Setelah itu, dari jam 6 sore jumlah pengguna akan mmenurun secara perlahan secara terus menerus hingga ke tengah malam.\n"
      ]
    },
    {
      "cell_type": "code",
      "execution_count": 128,
      "metadata": {},
      "outputs": [
        {
          "data": {
            "text/html": [
              "<div>\n",
              "<style scoped>\n",
              "    .dataframe tbody tr th:only-of-type {\n",
              "        vertical-align: middle;\n",
              "    }\n",
              "\n",
              "    .dataframe tbody tr th {\n",
              "        vertical-align: top;\n",
              "    }\n",
              "\n",
              "    .dataframe thead th {\n",
              "        text-align: right;\n",
              "    }\n",
              "</style>\n",
              "<table border=\"1\" class=\"dataframe\">\n",
              "  <thead>\n",
              "    <tr style=\"text-align: right;\">\n",
              "      <th></th>\n",
              "      <th>dteday</th>\n",
              "      <th>hr</th>\n",
              "      <th>instant</th>\n",
              "      <th>casual</th>\n",
              "      <th>registered</th>\n",
              "      <th>cnt</th>\n",
              "      <th>interpolated</th>\n",
              "    </tr>\n",
              "  </thead>\n",
              "  <tbody>\n",
              "    <tr>\n",
              "      <th>0</th>\n",
              "      <td>2011-01-01</td>\n",
              "      <td>0</td>\n",
              "      <td>1</td>\n",
              "      <td>3</td>\n",
              "      <td>13</td>\n",
              "      <td>16</td>\n",
              "      <td>False</td>\n",
              "    </tr>\n",
              "    <tr>\n",
              "      <th>1</th>\n",
              "      <td>2011-01-01</td>\n",
              "      <td>1</td>\n",
              "      <td>2</td>\n",
              "      <td>8</td>\n",
              "      <td>32</td>\n",
              "      <td>40</td>\n",
              "      <td>False</td>\n",
              "    </tr>\n",
              "    <tr>\n",
              "      <th>2</th>\n",
              "      <td>2011-01-01</td>\n",
              "      <td>2</td>\n",
              "      <td>3</td>\n",
              "      <td>5</td>\n",
              "      <td>27</td>\n",
              "      <td>32</td>\n",
              "      <td>False</td>\n",
              "    </tr>\n",
              "    <tr>\n",
              "      <th>3</th>\n",
              "      <td>2011-01-01</td>\n",
              "      <td>3</td>\n",
              "      <td>4</td>\n",
              "      <td>3</td>\n",
              "      <td>10</td>\n",
              "      <td>13</td>\n",
              "      <td>False</td>\n",
              "    </tr>\n",
              "    <tr>\n",
              "      <th>4</th>\n",
              "      <td>2011-01-01</td>\n",
              "      <td>4</td>\n",
              "      <td>5</td>\n",
              "      <td>0</td>\n",
              "      <td>1</td>\n",
              "      <td>1</td>\n",
              "      <td>False</td>\n",
              "    </tr>\n",
              "  </tbody>\n",
              "</table>\n",
              "</div>"
            ],
            "text/plain": [
              "      dteday  hr  instant  casual  registered  cnt  interpolated\n",
              "0 2011-01-01   0        1       3          13   16         False\n",
              "1 2011-01-01   1        2       8          32   40         False\n",
              "2 2011-01-01   2        3       5          27   32         False\n",
              "3 2011-01-01   3        4       3          10   13         False\n",
              "4 2011-01-01   4        5       0           1    1         False"
            ]
          },
          "execution_count": 128,
          "metadata": {},
          "output_type": "execute_result"
        }
      ],
      "source": [
        "hourmerged_df.head()"
      ]
    },
    {
      "cell_type": "markdown",
      "metadata": {
        "id": "MW7WF2kr8DC1"
      },
      "source": [
        "### Explore day_df"
      ]
    },
    {
      "cell_type": "code",
      "execution_count": 117,
      "metadata": {},
      "outputs": [
        {
          "data": {
            "text/html": [
              "<div>\n",
              "<style scoped>\n",
              "    .dataframe tbody tr th:only-of-type {\n",
              "        vertical-align: middle;\n",
              "    }\n",
              "\n",
              "    .dataframe tbody tr th {\n",
              "        vertical-align: top;\n",
              "    }\n",
              "\n",
              "    .dataframe thead th {\n",
              "        text-align: right;\n",
              "    }\n",
              "</style>\n",
              "<table border=\"1\" class=\"dataframe\">\n",
              "  <thead>\n",
              "    <tr style=\"text-align: right;\">\n",
              "      <th></th>\n",
              "      <th>instant</th>\n",
              "      <th>dteday</th>\n",
              "      <th>season</th>\n",
              "      <th>yr</th>\n",
              "      <th>mnth</th>\n",
              "      <th>holiday</th>\n",
              "      <th>weekday</th>\n",
              "      <th>workingday</th>\n",
              "      <th>weathersit</th>\n",
              "      <th>temp</th>\n",
              "      <th>atemp</th>\n",
              "      <th>hum</th>\n",
              "      <th>windspeed</th>\n",
              "      <th>casual</th>\n",
              "      <th>registered</th>\n",
              "      <th>cnt</th>\n",
              "    </tr>\n",
              "  </thead>\n",
              "  <tbody>\n",
              "    <tr>\n",
              "      <th>count</th>\n",
              "      <td>731.000000</td>\n",
              "      <td>731</td>\n",
              "      <td>731</td>\n",
              "      <td>731.000000</td>\n",
              "      <td>731.000000</td>\n",
              "      <td>731</td>\n",
              "      <td>731</td>\n",
              "      <td>731</td>\n",
              "      <td>731</td>\n",
              "      <td>731.000000</td>\n",
              "      <td>731.000000</td>\n",
              "      <td>731.000000</td>\n",
              "      <td>731.000000</td>\n",
              "      <td>731.000000</td>\n",
              "      <td>731.000000</td>\n",
              "      <td>731.000000</td>\n",
              "    </tr>\n",
              "    <tr>\n",
              "      <th>unique</th>\n",
              "      <td>NaN</td>\n",
              "      <td>NaN</td>\n",
              "      <td>4</td>\n",
              "      <td>NaN</td>\n",
              "      <td>NaN</td>\n",
              "      <td>2</td>\n",
              "      <td>7</td>\n",
              "      <td>2</td>\n",
              "      <td>3</td>\n",
              "      <td>NaN</td>\n",
              "      <td>NaN</td>\n",
              "      <td>NaN</td>\n",
              "      <td>NaN</td>\n",
              "      <td>NaN</td>\n",
              "      <td>NaN</td>\n",
              "      <td>NaN</td>\n",
              "    </tr>\n",
              "    <tr>\n",
              "      <th>top</th>\n",
              "      <td>NaN</td>\n",
              "      <td>NaN</td>\n",
              "      <td>Fall</td>\n",
              "      <td>NaN</td>\n",
              "      <td>NaN</td>\n",
              "      <td>No Holiday</td>\n",
              "      <td>Monday</td>\n",
              "      <td>Working Day</td>\n",
              "      <td>Clear, Few clouds, Partly cloudy</td>\n",
              "      <td>NaN</td>\n",
              "      <td>NaN</td>\n",
              "      <td>NaN</td>\n",
              "      <td>NaN</td>\n",
              "      <td>NaN</td>\n",
              "      <td>NaN</td>\n",
              "      <td>NaN</td>\n",
              "    </tr>\n",
              "    <tr>\n",
              "      <th>freq</th>\n",
              "      <td>NaN</td>\n",
              "      <td>NaN</td>\n",
              "      <td>188</td>\n",
              "      <td>NaN</td>\n",
              "      <td>NaN</td>\n",
              "      <td>710</td>\n",
              "      <td>105</td>\n",
              "      <td>500</td>\n",
              "      <td>463</td>\n",
              "      <td>NaN</td>\n",
              "      <td>NaN</td>\n",
              "      <td>NaN</td>\n",
              "      <td>NaN</td>\n",
              "      <td>NaN</td>\n",
              "      <td>NaN</td>\n",
              "      <td>NaN</td>\n",
              "    </tr>\n",
              "    <tr>\n",
              "      <th>mean</th>\n",
              "      <td>366.000000</td>\n",
              "      <td>2012-01-01 00:00:00</td>\n",
              "      <td>NaN</td>\n",
              "      <td>0.500684</td>\n",
              "      <td>6.519836</td>\n",
              "      <td>NaN</td>\n",
              "      <td>NaN</td>\n",
              "      <td>NaN</td>\n",
              "      <td>NaN</td>\n",
              "      <td>0.495385</td>\n",
              "      <td>0.474354</td>\n",
              "      <td>0.628754</td>\n",
              "      <td>0.190486</td>\n",
              "      <td>848.176471</td>\n",
              "      <td>3656.172367</td>\n",
              "      <td>4504.348837</td>\n",
              "    </tr>\n",
              "    <tr>\n",
              "      <th>min</th>\n",
              "      <td>1.000000</td>\n",
              "      <td>2011-01-01 00:00:00</td>\n",
              "      <td>NaN</td>\n",
              "      <td>0.000000</td>\n",
              "      <td>1.000000</td>\n",
              "      <td>NaN</td>\n",
              "      <td>NaN</td>\n",
              "      <td>NaN</td>\n",
              "      <td>NaN</td>\n",
              "      <td>0.059130</td>\n",
              "      <td>0.079070</td>\n",
              "      <td>0.187917</td>\n",
              "      <td>0.022392</td>\n",
              "      <td>2.000000</td>\n",
              "      <td>20.000000</td>\n",
              "      <td>22.000000</td>\n",
              "    </tr>\n",
              "    <tr>\n",
              "      <th>25%</th>\n",
              "      <td>183.500000</td>\n",
              "      <td>2011-07-02 12:00:00</td>\n",
              "      <td>NaN</td>\n",
              "      <td>0.000000</td>\n",
              "      <td>4.000000</td>\n",
              "      <td>NaN</td>\n",
              "      <td>NaN</td>\n",
              "      <td>NaN</td>\n",
              "      <td>NaN</td>\n",
              "      <td>0.337083</td>\n",
              "      <td>0.337842</td>\n",
              "      <td>0.521041</td>\n",
              "      <td>0.134950</td>\n",
              "      <td>315.500000</td>\n",
              "      <td>2497.000000</td>\n",
              "      <td>3152.000000</td>\n",
              "    </tr>\n",
              "    <tr>\n",
              "      <th>50%</th>\n",
              "      <td>366.000000</td>\n",
              "      <td>2012-01-01 00:00:00</td>\n",
              "      <td>NaN</td>\n",
              "      <td>1.000000</td>\n",
              "      <td>7.000000</td>\n",
              "      <td>NaN</td>\n",
              "      <td>NaN</td>\n",
              "      <td>NaN</td>\n",
              "      <td>NaN</td>\n",
              "      <td>0.498333</td>\n",
              "      <td>0.486733</td>\n",
              "      <td>0.627500</td>\n",
              "      <td>0.180975</td>\n",
              "      <td>713.000000</td>\n",
              "      <td>3662.000000</td>\n",
              "      <td>4548.000000</td>\n",
              "    </tr>\n",
              "    <tr>\n",
              "      <th>75%</th>\n",
              "      <td>548.500000</td>\n",
              "      <td>2012-07-01 12:00:00</td>\n",
              "      <td>NaN</td>\n",
              "      <td>1.000000</td>\n",
              "      <td>10.000000</td>\n",
              "      <td>NaN</td>\n",
              "      <td>NaN</td>\n",
              "      <td>NaN</td>\n",
              "      <td>NaN</td>\n",
              "      <td>0.655417</td>\n",
              "      <td>0.608602</td>\n",
              "      <td>0.730209</td>\n",
              "      <td>0.233214</td>\n",
              "      <td>1096.000000</td>\n",
              "      <td>4776.500000</td>\n",
              "      <td>5956.000000</td>\n",
              "    </tr>\n",
              "    <tr>\n",
              "      <th>max</th>\n",
              "      <td>731.000000</td>\n",
              "      <td>2012-12-31 00:00:00</td>\n",
              "      <td>NaN</td>\n",
              "      <td>1.000000</td>\n",
              "      <td>12.000000</td>\n",
              "      <td>NaN</td>\n",
              "      <td>NaN</td>\n",
              "      <td>NaN</td>\n",
              "      <td>NaN</td>\n",
              "      <td>0.861667</td>\n",
              "      <td>0.840896</td>\n",
              "      <td>0.972500</td>\n",
              "      <td>0.507463</td>\n",
              "      <td>3410.000000</td>\n",
              "      <td>6946.000000</td>\n",
              "      <td>8714.000000</td>\n",
              "    </tr>\n",
              "    <tr>\n",
              "      <th>std</th>\n",
              "      <td>211.165812</td>\n",
              "      <td>NaN</td>\n",
              "      <td>NaN</td>\n",
              "      <td>0.500342</td>\n",
              "      <td>3.451913</td>\n",
              "      <td>NaN</td>\n",
              "      <td>NaN</td>\n",
              "      <td>NaN</td>\n",
              "      <td>NaN</td>\n",
              "      <td>0.183051</td>\n",
              "      <td>0.162961</td>\n",
              "      <td>0.140518</td>\n",
              "      <td>0.077498</td>\n",
              "      <td>686.622488</td>\n",
              "      <td>1560.256377</td>\n",
              "      <td>1937.211452</td>\n",
              "    </tr>\n",
              "  </tbody>\n",
              "</table>\n",
              "</div>"
            ],
            "text/plain": [
              "           instant               dteday season          yr        mnth  \\\n",
              "count   731.000000                  731    731  731.000000  731.000000   \n",
              "unique         NaN                  NaN      4         NaN         NaN   \n",
              "top            NaN                  NaN   Fall         NaN         NaN   \n",
              "freq           NaN                  NaN    188         NaN         NaN   \n",
              "mean    366.000000  2012-01-01 00:00:00    NaN    0.500684    6.519836   \n",
              "min       1.000000  2011-01-01 00:00:00    NaN    0.000000    1.000000   \n",
              "25%     183.500000  2011-07-02 12:00:00    NaN    0.000000    4.000000   \n",
              "50%     366.000000  2012-01-01 00:00:00    NaN    1.000000    7.000000   \n",
              "75%     548.500000  2012-07-01 12:00:00    NaN    1.000000   10.000000   \n",
              "max     731.000000  2012-12-31 00:00:00    NaN    1.000000   12.000000   \n",
              "std     211.165812                  NaN    NaN    0.500342    3.451913   \n",
              "\n",
              "           holiday weekday   workingday                        weathersit  \\\n",
              "count          731     731          731                               731   \n",
              "unique           2       7            2                                 3   \n",
              "top     No Holiday  Monday  Working Day  Clear, Few clouds, Partly cloudy   \n",
              "freq           710     105          500                               463   \n",
              "mean           NaN     NaN          NaN                               NaN   \n",
              "min            NaN     NaN          NaN                               NaN   \n",
              "25%            NaN     NaN          NaN                               NaN   \n",
              "50%            NaN     NaN          NaN                               NaN   \n",
              "75%            NaN     NaN          NaN                               NaN   \n",
              "max            NaN     NaN          NaN                               NaN   \n",
              "std            NaN     NaN          NaN                               NaN   \n",
              "\n",
              "              temp       atemp         hum   windspeed       casual  \\\n",
              "count   731.000000  731.000000  731.000000  731.000000   731.000000   \n",
              "unique         NaN         NaN         NaN         NaN          NaN   \n",
              "top            NaN         NaN         NaN         NaN          NaN   \n",
              "freq           NaN         NaN         NaN         NaN          NaN   \n",
              "mean      0.495385    0.474354    0.628754    0.190486   848.176471   \n",
              "min       0.059130    0.079070    0.187917    0.022392     2.000000   \n",
              "25%       0.337083    0.337842    0.521041    0.134950   315.500000   \n",
              "50%       0.498333    0.486733    0.627500    0.180975   713.000000   \n",
              "75%       0.655417    0.608602    0.730209    0.233214  1096.000000   \n",
              "max       0.861667    0.840896    0.972500    0.507463  3410.000000   \n",
              "std       0.183051    0.162961    0.140518    0.077498   686.622488   \n",
              "\n",
              "         registered          cnt  \n",
              "count    731.000000   731.000000  \n",
              "unique          NaN          NaN  \n",
              "top             NaN          NaN  \n",
              "freq            NaN          NaN  \n",
              "mean    3656.172367  4504.348837  \n",
              "min       20.000000    22.000000  \n",
              "25%     2497.000000  3152.000000  \n",
              "50%     3662.000000  4548.000000  \n",
              "75%     4776.500000  5956.000000  \n",
              "max     6946.000000  8714.000000  \n",
              "std     1560.256377  1937.211452  "
            ]
          },
          "execution_count": 117,
          "metadata": {},
          "output_type": "execute_result"
        }
      ],
      "source": [
        "day_df.describe(include=\"all\")"
      ]
    },
    {
      "cell_type": "code",
      "execution_count": 118,
      "metadata": {},
      "outputs": [
        {
          "data": {
            "text/html": [
              "<div>\n",
              "<style scoped>\n",
              "    .dataframe tbody tr th:only-of-type {\n",
              "        vertical-align: middle;\n",
              "    }\n",
              "\n",
              "    .dataframe tbody tr th {\n",
              "        vertical-align: top;\n",
              "    }\n",
              "\n",
              "    .dataframe thead th {\n",
              "        text-align: right;\n",
              "    }\n",
              "</style>\n",
              "<table border=\"1\" class=\"dataframe\">\n",
              "  <thead>\n",
              "    <tr style=\"text-align: right;\">\n",
              "      <th></th>\n",
              "      <th>instant</th>\n",
              "      <th>dteday</th>\n",
              "      <th>season</th>\n",
              "      <th>yr</th>\n",
              "      <th>mnth</th>\n",
              "      <th>holiday</th>\n",
              "      <th>weekday</th>\n",
              "      <th>workingday</th>\n",
              "      <th>weathersit</th>\n",
              "      <th>temp</th>\n",
              "      <th>atemp</th>\n",
              "      <th>hum</th>\n",
              "      <th>windspeed</th>\n",
              "      <th>casual</th>\n",
              "      <th>registered</th>\n",
              "      <th>cnt</th>\n",
              "    </tr>\n",
              "  </thead>\n",
              "  <tbody>\n",
              "    <tr>\n",
              "      <th>0</th>\n",
              "      <td>1</td>\n",
              "      <td>2011-01-01</td>\n",
              "      <td>Spring</td>\n",
              "      <td>0</td>\n",
              "      <td>1</td>\n",
              "      <td>No Holiday</td>\n",
              "      <td>Saturday</td>\n",
              "      <td>Not Working Day</td>\n",
              "      <td>Mist + Cloudy, Mist + Broken clouds, Mist + Fe...</td>\n",
              "      <td>0.344167</td>\n",
              "      <td>0.363625</td>\n",
              "      <td>0.805833</td>\n",
              "      <td>0.160446</td>\n",
              "      <td>331</td>\n",
              "      <td>654</td>\n",
              "      <td>985</td>\n",
              "    </tr>\n",
              "    <tr>\n",
              "      <th>1</th>\n",
              "      <td>2</td>\n",
              "      <td>2011-01-02</td>\n",
              "      <td>Spring</td>\n",
              "      <td>0</td>\n",
              "      <td>1</td>\n",
              "      <td>No Holiday</td>\n",
              "      <td>Sunday</td>\n",
              "      <td>Not Working Day</td>\n",
              "      <td>Mist + Cloudy, Mist + Broken clouds, Mist + Fe...</td>\n",
              "      <td>0.363478</td>\n",
              "      <td>0.353739</td>\n",
              "      <td>0.696087</td>\n",
              "      <td>0.248539</td>\n",
              "      <td>131</td>\n",
              "      <td>670</td>\n",
              "      <td>801</td>\n",
              "    </tr>\n",
              "    <tr>\n",
              "      <th>2</th>\n",
              "      <td>3</td>\n",
              "      <td>2011-01-03</td>\n",
              "      <td>Spring</td>\n",
              "      <td>0</td>\n",
              "      <td>1</td>\n",
              "      <td>No Holiday</td>\n",
              "      <td>Monday</td>\n",
              "      <td>Working Day</td>\n",
              "      <td>Clear, Few clouds, Partly cloudy</td>\n",
              "      <td>0.196364</td>\n",
              "      <td>0.189405</td>\n",
              "      <td>0.437273</td>\n",
              "      <td>0.248309</td>\n",
              "      <td>120</td>\n",
              "      <td>1229</td>\n",
              "      <td>1349</td>\n",
              "    </tr>\n",
              "    <tr>\n",
              "      <th>3</th>\n",
              "      <td>4</td>\n",
              "      <td>2011-01-04</td>\n",
              "      <td>Spring</td>\n",
              "      <td>0</td>\n",
              "      <td>1</td>\n",
              "      <td>No Holiday</td>\n",
              "      <td>Tuesday</td>\n",
              "      <td>Working Day</td>\n",
              "      <td>Clear, Few clouds, Partly cloudy</td>\n",
              "      <td>0.200000</td>\n",
              "      <td>0.212122</td>\n",
              "      <td>0.590435</td>\n",
              "      <td>0.160296</td>\n",
              "      <td>108</td>\n",
              "      <td>1454</td>\n",
              "      <td>1562</td>\n",
              "    </tr>\n",
              "    <tr>\n",
              "      <th>4</th>\n",
              "      <td>5</td>\n",
              "      <td>2011-01-05</td>\n",
              "      <td>Spring</td>\n",
              "      <td>0</td>\n",
              "      <td>1</td>\n",
              "      <td>No Holiday</td>\n",
              "      <td>Wednesday</td>\n",
              "      <td>Working Day</td>\n",
              "      <td>Clear, Few clouds, Partly cloudy</td>\n",
              "      <td>0.226957</td>\n",
              "      <td>0.229270</td>\n",
              "      <td>0.436957</td>\n",
              "      <td>0.186900</td>\n",
              "      <td>82</td>\n",
              "      <td>1518</td>\n",
              "      <td>1600</td>\n",
              "    </tr>\n",
              "  </tbody>\n",
              "</table>\n",
              "</div>"
            ],
            "text/plain": [
              "   instant     dteday  season  yr  mnth     holiday    weekday  \\\n",
              "0        1 2011-01-01  Spring   0     1  No Holiday   Saturday   \n",
              "1        2 2011-01-02  Spring   0     1  No Holiday     Sunday   \n",
              "2        3 2011-01-03  Spring   0     1  No Holiday     Monday   \n",
              "3        4 2011-01-04  Spring   0     1  No Holiday    Tuesday   \n",
              "4        5 2011-01-05  Spring   0     1  No Holiday  Wednesday   \n",
              "\n",
              "        workingday                                         weathersit  \\\n",
              "0  Not Working Day  Mist + Cloudy, Mist + Broken clouds, Mist + Fe...   \n",
              "1  Not Working Day  Mist + Cloudy, Mist + Broken clouds, Mist + Fe...   \n",
              "2      Working Day                   Clear, Few clouds, Partly cloudy   \n",
              "3      Working Day                   Clear, Few clouds, Partly cloudy   \n",
              "4      Working Day                   Clear, Few clouds, Partly cloudy   \n",
              "\n",
              "       temp     atemp       hum  windspeed  casual  registered   cnt  \n",
              "0  0.344167  0.363625  0.805833   0.160446     331         654   985  \n",
              "1  0.363478  0.353739  0.696087   0.248539     131         670   801  \n",
              "2  0.196364  0.189405  0.437273   0.248309     120        1229  1349  \n",
              "3  0.200000  0.212122  0.590435   0.160296     108        1454  1562  \n",
              "4  0.226957  0.229270  0.436957   0.186900      82        1518  1600  "
            ]
          },
          "execution_count": 118,
          "metadata": {},
          "output_type": "execute_result"
        }
      ],
      "source": [
        "day_df.head()"
      ]
    },
    {
      "cell_type": "markdown",
      "metadata": {},
      "source": [
        "**Jumlah user dalam 2 tahun**"
      ]
    },
    {
      "cell_type": "code",
      "execution_count": 119,
      "metadata": {},
      "outputs": [
        {
          "name": "stdout",
          "output_type": "stream",
          "text": [
            "Total user secara keseluruhan selama 2011 dan 2012: 3292679\n",
            "Total user (cnt) per tahun:\n",
            "yr\n",
            "0    1243103\n",
            "1    2049576\n",
            "Name: cnt, dtype: int64\n"
          ]
        }
      ],
      "source": [
        "# Menghitung total count keseluruhan\n",
        "total_count = day_df['cnt'].sum()\n",
        "print(f\"Total user secara keseluruhan selama 2011 dan 2012: {total_count}\")\n",
        "\n",
        "# Menghitung total count per tahunnya\n",
        "count_per_year = day_df.groupby('yr')['cnt'].sum()\n",
        "print(f\"Total user (cnt) per tahun:\\n{count_per_year}\")"
      ]
    },
    {
      "cell_type": "markdown",
      "metadata": {},
      "source": [
        "Disini dapat dilihat bahwa ada kenaikan dari tahun 2011 ke tahun 2012, menandakan adanya perkembangan."
      ]
    },
    {
      "cell_type": "markdown",
      "metadata": {},
      "source": [
        "**Jumlah user dalam 2 tahun, berdasarkan bulan**"
      ]
    },
    {
      "cell_type": "code",
      "execution_count": 120,
      "metadata": {
        "id": "e9CQCZjk8DC2"
      },
      "outputs": [
        {
          "name": "stdout",
          "output_type": "stream",
          "text": [
            "yr  mnth\n",
            "0   1        38189\n",
            "    2        48215\n",
            "    3        64045\n",
            "    4        94870\n",
            "    5       135821\n",
            "    6       143512\n",
            "    7       141341\n",
            "    8       136691\n",
            "    9       127418\n",
            "    10      123511\n",
            "    11      102167\n",
            "    12       87323\n",
            "1   1        96744\n",
            "    2       103137\n",
            "    3       164875\n",
            "    4       174224\n",
            "    5       195865\n",
            "    6       202830\n",
            "    7       203607\n",
            "    8       214503\n",
            "    9       218573\n",
            "    10      198841\n",
            "    11      152664\n",
            "    12      123713\n",
            "Name: cnt, dtype: int64\n"
          ]
        }
      ],
      "source": [
        "# menggunakan groupby, gabungkan year (yr) dan mounth (mtnh), kemudian print hitung jumlah user (cnt)\n",
        "user_count_per_month = day_df.groupby(['yr', 'mnth'])['cnt'].sum()\n",
        "\n",
        "\n",
        "# print, dimana yr 0 adalah 2011 dan yr 1 adalah 2012, dan mnth sesuai dengan angkanya\n",
        "print(user_count_per_month)"
      ]
    },
    {
      "cell_type": "markdown",
      "metadata": {},
      "source": [
        "Disini dapat dilihat bahwa bulan dengan jumlah pemakaian yang banyak ada di sekitar Mei (5) sampai Oktober (10), sebelum mengalami penurunan hingga Januari (1). Setelah itu, jumlah pengguna akan relatif meningkat sampai Mei kembali"
      ]
    },
    {
      "cell_type": "markdown",
      "metadata": {},
      "source": [
        "**Jumlah user berdasarkan  musim**"
      ]
    },
    {
      "cell_type": "code",
      "execution_count": 122,
      "metadata": {},
      "outputs": [
        {
          "name": "stdout",
          "output_type": "stream",
          "text": [
            "   season      cnt\n",
            "0    Fall  1061129\n",
            "1  Spring   471348\n",
            "2  Summer   918589\n",
            "3  Winter   841613\n"
          ]
        },
        {
          "name": "stderr",
          "output_type": "stream",
          "text": [
            "C:\\Users\\Rafi Kyandra\\AppData\\Local\\Temp\\ipykernel_13284\\2195243886.py:2: FutureWarning: The default of observed=False is deprecated and will be changed to True in a future version of pandas. Pass observed=False to retain current behavior or observed=True to adopt the future default and silence this warning.\n",
            "  user_count_per_season = day_df.groupby('season')['cnt'].sum().reset_index()\n"
          ]
        }
      ],
      "source": [
        "# Group by season and sum the cnt column\n",
        "user_count_per_season = day_df.groupby('season')['cnt'].sum().reset_index()\n",
        "\n",
        "# Display the seasonal counts\n",
        "print(user_count_per_season)"
      ]
    },
    {
      "cell_type": "markdown",
      "metadata": {},
      "source": [
        "User pada musim gugur dan panas lebih banyak ketimbang dengan musim dingin dan semi"
      ]
    },
    {
      "cell_type": "markdown",
      "metadata": {},
      "source": [
        "**Persentase pembagian user registered dan casual**"
      ]
    },
    {
      "cell_type": "code",
      "execution_count": 123,
      "metadata": {},
      "outputs": [
        {
          "name": "stdout",
          "output_type": "stream",
          "text": [
            "Jumlah user register: 2672662\n",
            "Jumlah user casual: 620017\n",
            "Persentase jumlah user registered: 81.17%\n",
            "Persentase jumlah user casual: 18.83%\n"
          ]
        }
      ],
      "source": [
        "# Calculate total registered and casual users\n",
        "total_registered_count = day_df['registered'].sum()\n",
        "total_casual_count = day_df['casual'].sum()\n",
        "\n",
        "# Calculate total users\n",
        "total_users_count = total_registered_count + total_casual_count\n",
        "\n",
        "# Calculate percentages\n",
        "percentage_registered = (total_registered_count / total_users_count) * 100\n",
        "percentage_casual = (total_casual_count / total_users_count) * 100\n",
        "\n",
        "# Display the results\n",
        "print(f'Jumlah user register: {total_registered_count}')\n",
        "print(f'Jumlah user casual: {total_casual_count}')\n",
        "print(f'Persentase jumlah user registered: {percentage_registered:.2f}%')\n",
        "print(f'Persentase jumlah user casual: {percentage_casual:.2f}%')"
      ]
    },
    {
      "cell_type": "markdown",
      "metadata": {},
      "source": [
        "jumlah user registered ternyata sangat lebih banyak daripada jumlah user casual"
      ]
    },
    {
      "cell_type": "markdown",
      "metadata": {},
      "source": [
        "**Mencari hubungan antara jumlah user dengan variabel cuaca numerik**"
      ]
    },
    {
      "cell_type": "code",
      "execution_count": 124,
      "metadata": {},
      "outputs": [
        {
          "name": "stdout",
          "output_type": "stream",
          "text": [
            "Correlation Matrix:\n",
            "               temp  windspeed       hum       cnt\n",
            "temp       1.000000  -0.157944  0.125131  0.627494\n",
            "windspeed -0.157944   1.000000 -0.246223 -0.234545\n",
            "hum        0.125131  -0.246223  1.000000 -0.114309\n",
            "cnt        0.627494  -0.234545 -0.114309  1.000000\n",
            "\n",
            "Covariance Matrix:\n",
            "                 temp  windspeed        hum           cnt\n",
            "temp         0.033508  -0.002241   0.003219  2.225147e+02\n",
            "windspeed   -0.002241   0.006006  -0.002681 -3.521218e+01\n",
            "hum          0.003219  -0.002681   0.019745 -3.111627e+01\n",
            "cnt        222.514700 -35.212185 -31.116268  3.752788e+06\n"
          ]
        }
      ],
      "source": [
        "# Ensure the relevant columns are present\n",
        "# Select relevant columns for analysis\n",
        "columns_for_analysis = ['temp', 'windspeed', 'hum', 'cnt']  # Using 'cnt' for total users\n",
        "\n",
        "# Calculate the correlation matrix\n",
        "correlation_matrix = day_df[columns_for_analysis].corr()\n",
        "\n",
        "# Calculate the covariance matrix\n",
        "covariance_matrix = day_df[columns_for_analysis].cov()\n",
        "\n",
        "# Display the correlation matrix\n",
        "print(\"Correlation Matrix:\")\n",
        "print(correlation_matrix)\n",
        "\n",
        "# Display the covariance matrix\n",
        "print(\"\\nCovariance Matrix:\")\n",
        "print(covariance_matrix)"
      ]
    },
    {
      "cell_type": "markdown",
      "metadata": {},
      "source": [
        "Ada indikasi korelasi positif  yang kuat antara cnt jumlah dengan temperatur, sedangkan korelasi negatif yang lemah antara jumlah user dengan kecepatan udara dan kelembapan"
      ]
    },
    {
      "cell_type": "markdown",
      "metadata": {},
      "source": [
        "**Melakukan grouping berdasarkan kategori keramaian dan variabel cuaca numerik**"
      ]
    },
    {
      "cell_type": "code",
      "execution_count": 125,
      "metadata": {},
      "outputs": [
        {
          "name": "stdout",
          "output_type": "stream",
          "text": [
            "      cnt         cnt_group      temp temp_group       hum          hum_group  \\\n",
            "0     985              Sepi  0.344167     Dingin  0.805833             Lembap   \n",
            "1     801              Sepi  0.363478     Dingin  0.696087  Kelembapan Sedang   \n",
            "2    1349              Sepi  0.196364     Dingin  0.437273             Kering   \n",
            "3    1562              Sepi  0.200000     Dingin  0.590435  Kelembapan Sedang   \n",
            "4    1600              Sepi  0.226957     Dingin  0.436957             Kering   \n",
            "..    ...               ...       ...        ...       ...                ...   \n",
            "726  2114  Keramaian Sedang  0.254167     Dingin  0.652917  Kelembapan Sedang   \n",
            "727  3095  Keramaian Sedang  0.253333     Dingin  0.590000  Kelembapan Sedang   \n",
            "728  1341              Sepi  0.253333     Dingin  0.752917             Lembap   \n",
            "729  1796              Sepi  0.255833     Dingin  0.483333             Kering   \n",
            "730  2729  Keramaian Sedang  0.215833     Dingin  0.577500  Kelembapan Sedang   \n",
            "\n",
            "     windspeed windspeed_group  \n",
            "0     0.160446          Tenang  \n",
            "1     0.248539    Angin Sedang  \n",
            "2     0.248309    Angin Sedang  \n",
            "3     0.160296          Tenang  \n",
            "4     0.186900          Tenang  \n",
            "..         ...             ...  \n",
            "726   0.350133    Angin Sedang  \n",
            "727   0.155471          Tenang  \n",
            "728   0.124383          Tenang  \n",
            "729   0.350754    Angin Sedang  \n",
            "730   0.154846          Tenang  \n",
            "\n",
            "[731 rows x 8 columns]\n"
          ]
        }
      ],
      "source": [
        "import pandas as pd\n",
        "\n",
        "# Definisikan bin dan label untuk setiap kolom\n",
        "\n",
        "# Bin untuk 'cnt' (bisa diubah sesuai kebutuhan)\n",
        "cnt_bins = [0, 2000, 4000, float('inf')]\n",
        "cnt_labels = ['Sepi', 'Keramaian Sedang', 'Ramai']\n",
        "\n",
        "# Bin untuk 'temp'\n",
        "temp_bins = [0, 0.4, 0.6, float('inf')]\n",
        "temp_labels = ['Dingin', 'Sejuk', 'Hangat']\n",
        "\n",
        "# Bin untuk 'hum' (Kelembaban)\n",
        "hum_bins = [0, 0.5, 0.7, float('inf')]\n",
        "hum_labels = ['Kering', 'Kelembapan Sedang', 'Lembap']\n",
        "\n",
        "# Bin untuk 'windspeed' (Kecepatan Angin)\n",
        "windspeed_bins = [0, 0.2, 0.4, float('inf')]\n",
        "windspeed_labels = ['Tenang', 'Angin Sedang', 'Angin Kencang']\n",
        "\n",
        "# Terapkan pd.cut untuk mengkategorikan setiap kolom\n",
        "day_df['cnt_group'] = pd.cut(day_df['cnt'], bins=cnt_bins, labels=cnt_labels, include_lowest=True)\n",
        "day_df['temp_group'] = pd.cut(day_df['temp'], bins=temp_bins, labels=temp_labels, include_lowest=True)\n",
        "day_df['hum_group'] = pd.cut(day_df['hum'], bins=hum_bins, labels=hum_labels, include_lowest=True)\n",
        "day_df['windspeed_group'] = pd.cut(day_df['windspeed'], bins=windspeed_bins, labels=windspeed_labels, include_lowest=True)\n",
        "\n",
        "# Tampilkan DataFrame dengan grup baru\n",
        "print(day_df[['cnt', 'cnt_group', 'temp', 'temp_group', 'hum', 'hum_group', 'windspeed', 'windspeed_group']])\n",
        "\n"
      ]
    },
    {
      "cell_type": "markdown",
      "metadata": {},
      "source": [
        "Kita akan cari tahu jumlah per kombinasinya"
      ]
    },
    {
      "cell_type": "code",
      "execution_count": 126,
      "metadata": {},
      "outputs": [
        {
          "name": "stdout",
          "output_type": "stream",
          "text": [
            "Jumlah per kombinasi grup:\n",
            "   cnt_group temp_group          hum_group windspeed_group  count\n",
            "0       Sepi     Dingin             Kering          Tenang      9\n",
            "1       Sepi     Dingin             Kering    Angin Sedang     14\n",
            "2       Sepi     Dingin             Kering   Angin Kencang      3\n",
            "3       Sepi     Dingin  Kelembapan Sedang          Tenang     20\n",
            "4       Sepi     Dingin  Kelembapan Sedang    Angin Sedang     13\n",
            "..       ...        ...                ...             ...    ...\n",
            "76     Ramai     Hangat  Kelembapan Sedang    Angin Sedang     34\n",
            "77     Ramai     Hangat  Kelembapan Sedang   Angin Kencang      0\n",
            "78     Ramai     Hangat             Lembap          Tenang     44\n",
            "79     Ramai     Hangat             Lembap    Angin Sedang     22\n",
            "80     Ramai     Hangat             Lembap   Angin Kencang      0\n",
            "\n",
            "[81 rows x 5 columns]\n"
          ]
        },
        {
          "name": "stderr",
          "output_type": "stream",
          "text": [
            "C:\\Users\\Rafi Kyandra\\AppData\\Local\\Temp\\ipykernel_13284\\2934306130.py:2: FutureWarning: The default of observed=False is deprecated and will be changed to True in a future version of pandas. Pass observed=False to retain current behavior or observed=True to adopt the future default and silence this warning.\n",
            "  group_counts = day_df.groupby(['cnt_group', 'temp_group', 'hum_group', 'windspeed_group']).size().reset_index(name='count')\n"
          ]
        }
      ],
      "source": [
        "# Menghitung jumlah per kombinasi grup\n",
        "group_counts = day_df.groupby(['cnt_group', 'temp_group', 'hum_group', 'windspeed_group']).size().reset_index(name='count')\n",
        "\n",
        "# Menampilkan hasil\n",
        "print(\"Jumlah per kombinasi grup:\")\n",
        "print(group_counts)"
      ]
    },
    {
      "cell_type": "markdown",
      "metadata": {},
      "source": [
        "Disini dapat dilihat bahwa keramaian memiliki hubungan yang erat dengan temperatur, dimana ada sangat banyak hari yang ramai dengan cuaca hangat"
      ]
    },
    {
      "cell_type": "code",
      "execution_count": null,
      "metadata": {},
      "outputs": [],
      "source": []
    },
    {
      "cell_type": "markdown",
      "metadata": {
        "id": "th_Lzl2Fkj9O"
      },
      "source": [
        "**Insight:**\n",
        "\n",
        "*hour_df*\n",
        "- Disini dapat dilihat bahwa banyak user yang menggunakan sepeda ketika tengah malam, hal tersebut secara perlahan mmenurun sampai jam 4 pagi. Terlihat kenaikan sejak jam 5 dimana loncatan dari Jam 6, 7, sampai 8 sangat drastis sebelum menurun lagi dari Jam 9 - jam 10. Terjadi kenaikan lagi dari Jam 11 hingga 12, dimana jumlah user relatif stagnan sampai kenaikan drastis dari jam 4 sore - jam 5 sore. Setelah itu, dari jam 6 sore jumlah pengguna akan mmenurun secara perlahan secara terus menerus hingga ke tengah malam.\n",
        "\n",
        "\n",
        "*day_df*\n",
        "- Jumlah user meningkat dari 2011 ke 2012\n",
        "- Jumlah user paling banyak untuk 2011 ada di bulan Juni, dan untuk 2012 pada september\n",
        "- Jumlah user paling banyak ada di musinm gugur\n",
        "- Jumlah user registered lebih banyak dariapada casual\n",
        "- Hubungan positif antara jumlah user dengan temperatur\n",
        "- Kategori hari ramai, hangat, kelembapan sedang, dan angin tenang adalah yang paling banyak"
      ]
    },
    {
      "cell_type": "markdown",
      "metadata": {
        "id": "zsyZjqak8DC2"
      },
      "source": [
        "## Visualization & Explanatory Analysis"
      ]
    },
    {
      "cell_type": "markdown",
      "metadata": {
        "id": "HZxOiQ6n8DC2"
      },
      "source": [
        "### Pertanyaan 1: Bagaimana  tingkat penggunaan/jumlah user E-Bike pada Tahun 2011 - 2012 berdasarkan bulan?\n",
        "\n",
        "Disini kita sudah mengetahui bahwa ada kenaikan user dari 2011 ke 2012"
      ]
    },
    {
      "cell_type": "code",
      "execution_count": 69,
      "metadata": {},
      "outputs": [
        {
          "data": {
            "image/png": "[encoded data removed]",
            "text/plain": [
              "<Figure size 1200x600 with 1 Axes>"
            ]
          },
          "metadata": {},
          "output_type": "display_data"
        }
      ],
      "source": [
        "import numpy as np\n",
        "import matplotlib.pyplot as plt\n",
        "\n",
        "# Menghitung jumlah user per bulan untuk 2011 dan 2012\n",
        "monthly_user_2011 = day_df[day_df['yr'] == 0].groupby('mnth')['cnt'].sum()\n",
        "monthly_user_2012 = day_df[day_df['yr'] == 1].groupby('mnth')['cnt'].sum()\n",
        "\n",
        "# Menggabungkan data 2011 dan 2012 secara berurutan\n",
        "monthly_user_combined = np.concatenate([monthly_user_2011.values, monthly_user_2012.values])\n",
        "\n",
        "# Membuat label untuk sumbu x, menggabungkan nama bulan untuk 2011 dan 2012\n",
        "months_labels = ['Jan 2011', 'Feb 2011', 'Mar 2011', 'Apr 2011', 'Mei 2011', 'Jun 2011', \n",
        "                 'Jul 2011', 'Agu 2011', 'Sep 2011', 'Okt 2011', 'Nov 2011', 'Des 2011',\n",
        "                 'Jan 2012', 'Feb 2012', 'Mar 2012', 'Apr 2012', 'Mei 2012', 'Jun 2012', \n",
        "                 'Jul 2012', 'Agu 2012', 'Sep 2012', 'Okt 2012', 'Nov 2012', 'Des 2012']\n",
        "\n",
        "# Identifikasi bulan dengan user terbanyak dan tersedikit untuk tahun 2011 dan 2012\n",
        "max_month_2011 = monthly_user_2011.idxmax() - 1  # indeks mulai dari 0\n",
        "min_month_2011 = monthly_user_2011.idxmin() - 1\n",
        "max_month_2012 = monthly_user_2012.idxmax() + 11  # tambahkan 12 agar sesuai dengan urutan kombinasi\n",
        "min_month_2012 = monthly_user_2012.idxmin() + 11\n",
        "\n",
        "# Membuat bar chart\n",
        "plt.figure(figsize=(12, 6))\n",
        "bars = plt.bar(np.arange(24), monthly_user_combined, color='lightblue')\n",
        "\n",
        "# Warna merah untuk user terbanyak dan biru untuk tersedikit\n",
        "bars[max_month_2011].set_color('red')\n",
        "bars[min_month_2011].set_color('blue')\n",
        "bars[max_month_2012].set_color('red')\n",
        "bars[min_month_2012].set_color('blue')\n",
        "\n",
        "# Menambahkan label di atas setiap bar\n",
        "for i, bar in enumerate(bars):\n",
        "    plt.text(bar.get_x() + bar.get_width()/2, bar.get_height(), int(bar.get_height()), \n",
        "             ha='center', va='bottom', fontsize=8)\n",
        "\n",
        "# Mengatur sumbu x\n",
        "plt.xticks(np.arange(24), labels=months_labels, rotation=45)\n",
        "\n",
        "# Memberi label dan judul\n",
        "plt.xlabel('Bulan')\n",
        "plt.ylabel('Jumlah User')\n",
        "plt.title('Jumlah User per Bulan (2011 dan 2012)')\n",
        "\n",
        "# Menampilkan plot\n",
        "plt.tight_layout()\n",
        "plt.show()\n",
        "\n",
        "\n"
      ]
    },
    {
      "cell_type": "markdown",
      "metadata": {},
      "source": [
        "Jumlah user paling sedikit selalu terjadi pada bulan Januari, sedangkan jumlah user paling banyak ada pada bulan Juni dan September. Jumlah user mengalami penurunan sekitar penghujung akhir dan awal tahun kemudian meningkat lagi dan memuncak di pertangahan tahun. Dapat kita perhatikan juga bahwa terjadi peningkatan drastis dari perbandinga tahun 2011 ke 2012,  Ini menandakan pertumbuhan jumlah user yang signifikan. Kemudian, puncak penggunaan juga malah mendekati ke penghujung akhir tahun yang bisa menandakan antusiasme untuk menggunakan E-Bike meningkat."
      ]
    },
    {
      "cell_type": "markdown",
      "metadata": {},
      "source": [
        "### Pertanyaan 2: Pada musim apa penggunaan E-Bike paling banyak?"
      ]
    },
    {
      "cell_type": "code",
      "execution_count": 95,
      "metadata": {
        "id": "Go0lCsvO8DC2"
      },
      "outputs": [
        {
          "name": "stderr",
          "output_type": "stream",
          "text": [
            "C:\\Users\\Rafi Kyandra\\AppData\\Local\\Temp\\ipykernel_13284\\751127969.py:2: FutureWarning: The default of observed=False is deprecated and will be changed to True in a future version of pandas. Pass observed=False to retain current behavior or observed=True to adopt the future default and silence this warning.\n",
            "  user_counts_by_season = day_df.groupby('season')['cnt'].sum().sort_values(ascending=False)\n"
          ]
        },
        {
          "data": {
            "image/png": "[encoded data removed]",
            "text/plain": [
              "<Figure size 1200x600 with 1 Axes>"
            ]
          },
          "metadata": {},
          "output_type": "display_data"
        }
      ],
      "source": [
        "# Menghitung jumlah user per kategori weathersit\n",
        "user_counts_by_season = day_df.groupby('season')['cnt'].sum().sort_values(ascending=False)\n",
        "\n",
        "# Membuat bar chart horizontal\n",
        "plt.figure(figsize=(12, 6))\n",
        "bars = plt.barh(user_counts_by_season.index, user_counts_by_season.values, color='lightblue')\n",
        "\n",
        "# Mengubah warna batang yang paling banyak\n",
        "bars[0].set_color('red')  # Batang pertama adalah yang tertinggi\n",
        "\n",
        "# Menambahkan label di sebelah kanan batang\n",
        "for bar in bars:\n",
        "    plt.text(bar.get_width(), bar.get_y() + bar.get_height()/2, int(bar.get_width()), \n",
        "             va='center', ha='left', fontsize=8)\n",
        "\n",
        "# Memberi label dan judul\n",
        "plt.xlabel('Jumlah User')\n",
        "plt.ylabel('Musim')\n",
        "plt.title('Jumlah User Berdasarkan Kondisi Cuaca')\n",
        "\n",
        "# Menampilkan plot\n",
        "plt.tight_layout()\n",
        "plt.show()"
      ]
    },
    {
      "cell_type": "markdown",
      "metadata": {},
      "source": [
        "Dapat dilihat bahwa musim gugur (fall) memiliki jumlah data paling banyak diikuti dengan summer. Sedangkan, jumlah user pada musim semi (spring) adalah yang paling sedikit"
      ]
    },
    {
      "cell_type": "markdown",
      "metadata": {},
      "source": [
        "### Pertanyaan 3 : Bagaimana persen pembagian antara pengguna registered dan casual?"
      ]
    },
    {
      "cell_type": "code",
      "execution_count": 72,
      "metadata": {},
      "outputs": [
        {
          "data": {
            "image/png": "[encoded data removed]",
            "text/plain": [
              "<Figure size 800x800 with 1 Axes>"
            ]
          },
          "metadata": {},
          "output_type": "display_data"
        }
      ],
      "source": [
        "# Menghitung total casual dan registered users\n",
        "total_casual = day_df['casual'].sum()\n",
        "total_registered = day_df['registered'].sum()\n",
        "\n",
        "# Data untuk pie chart\n",
        "labels = ['Casual', 'Registered']\n",
        "sizes = [total_casual, total_registered]\n",
        "colors = ['lightblue', 'lightgreen']  # Warna untuk pie chart\n",
        "\n",
        "# Buat pie chart\n",
        "plt.figure(figsize=(8, 8))\n",
        "plt.pie(sizes, labels=labels, colors=colors, autopct='%1.1f%%', startangle=140)\n",
        "plt.title('Persentase Total Pengguna: Casual vs Registered')\n",
        "plt.axis('equal')  # Menjaga rasio aspek lingkaran\n",
        "plt.show()"
      ]
    },
    {
      "cell_type": "markdown",
      "metadata": {},
      "source": [
        "Disini, diketahui bahwa user registered lebih banyak secara drastis daripada user casual."
      ]
    },
    {
      "cell_type": "markdown",
      "metadata": {},
      "source": [
        "### Pertanyaan 4 : Bagaimana korelasi/ hubungan antara jumlah user dengan beberapa variabel cuaca numerik seperti temperatur, kecepatan angin, dan kelembapan?"
      ]
    },
    {
      "cell_type": "code",
      "execution_count": 76,
      "metadata": {},
      "outputs": [
        {
          "data": {
            "image/png": "[encoded data removed]",
            "text/plain": [
              "<Figure size 800x600 with 2 Axes>"
            ]
          },
          "metadata": {},
          "output_type": "display_data"
        }
      ],
      "source": [
        "#Visualisasi menggunakan heatmap\n",
        "plt.figure(figsize=(8, 6))\n",
        "sns.heatmap(correlation_matrix, annot=True, cmap='coolwarm', fmt='.2f', square=True, cbar_kws={\"shrink\": .8})\n",
        "plt.title('Correlation Matrix Heatmap')\n",
        "plt.xticks(rotation=45)\n",
        "plt.yticks(rotation=0)\n",
        "plt.tight_layout()\n",
        "plt.show()"
      ]
    },
    {
      "cell_type": "markdown",
      "metadata": {},
      "source": [
        "Bisa dilihat bahwa ada hubungan positif yang signifiikan antara cnt (jumlah user dalam sehari) dengan temp atau temperatur, sedangkan hubungannya dengan windspeed dan humidity (kelembapan) adalah negatif tapi tidak terlalu signifikan."
      ]
    },
    {
      "cell_type": "markdown",
      "metadata": {},
      "source": [
        "### Pertanyaan 5 : Pada jam berapakah user banyak menggunakan sepeda?"
      ]
    },
    {
      "cell_type": "code",
      "execution_count": 131,
      "metadata": {},
      "outputs": [
        {
          "name": "stdout",
          "output_type": "stream",
          "text": [
            "    hr  casual  registered     cnt\n",
            "0    0    7425       31975   39400\n",
            "1    1    4758       19644   24402\n",
            "2    2    3492       13228   16720\n",
            "3    3    1995        6587    8582\n",
            "4    4     908        3724    4632\n",
            "5    5    1026       13501   14527\n",
            "6    6    3041       52547   55588\n",
            "7    7    8081      146938  155019\n",
            "8    8   15849      246588  262437\n",
            "9    9   22582      137732  160314\n",
            "10  10   33973       92976  126949\n",
            "11  11   43526      108630  152156\n",
            "12  12   49922      135251  185173\n",
            "13  13   52857      132568  185425\n",
            "14  14   55241      120893  176134\n",
            "15  15   54756      128895  183651\n",
            "16  16   53908      174152  228060\n",
            "17  17   54294      283027  337321\n",
            "18  18   44679      266368  311047\n",
            "19  19   35652      192073  227725\n",
            "20  20   26486      138742  165228\n",
            "21  21   20654      105307  125961\n",
            "22  22   16266       79739   96005\n",
            "23  23   11110       53095   64205\n"
          ]
        },
        {
          "data": {
            "image/png": "[encoded data removed]",
            "text/plain": [
              "<Figure size 1200x600 with 1 Axes>"
            ]
          },
          "metadata": {},
          "output_type": "display_data"
        }
      ],
      "source": [
        "# Mengelompokkan berdasarkan kolom hr dan menghitung total untuk kolom casual, registered, dan cnt\n",
        "total_users_per_hour = hourmerged_df.groupby('hr')[['casual', 'registered', 'cnt']].sum().reset_index()\n",
        "\n",
        "\n",
        "print(total_users_per_hour)\n",
        "\n",
        "\n",
        "plt.figure(figsize=(12, 6))\n",
        "plt.plot(total_users_per_hour['hr'], total_users_per_hour['casual'], marker='o', label='Casual Users', color='blue')\n",
        "plt.plot(total_users_per_hour['hr'], total_users_per_hour['registered'], marker='o', label='Registered Users', color='orange')\n",
        "plt.plot(total_users_per_hour['hr'], total_users_per_hour['cnt'], marker='o', label='Total Users', color='green')\n",
        "plt.title('Total Users by Hour')\n",
        "plt.xlabel('Hour of the Day')\n",
        "plt.ylabel('Number of Users')\n",
        "plt.xticks(total_users_per_hour['hr'])  \n",
        "plt.grid()\n",
        "plt.legend()\n",
        "\n",
        "plt.tight_layout()\n",
        "plt.show()"
      ]
    },
    {
      "cell_type": "markdown",
      "metadata": {},
      "source": [
        "User paling banyak menggunakan sepeda jam 17 atau 5 sore. Disini dapat dilihat ada beberapa jam - jam yang optimal. Pada pagi hari, di sekitar Jam 7 - 9. Siang hari di jam 12 - 15. Dan sore-malam hari di jam 16 - 19."
      ]
    },
    {
      "cell_type": "markdown",
      "metadata": {},
      "source": [
        "**Insight**\n",
        "- Jumlah pengguna paling sedikit selalu tercatat pada bulan Januari, sementara jumlah pengguna tertinggi muncul pada bulan Juni dan September. Terdapat penurunan jumlah pengguna yang signifikan pada akhir tahun dan awal tahun berikutnya, diikuti dengan peningkatan yang kembali terjadi, mencapai puncaknya di pertengahan tahun. Selain itu, terlihat juga adanya lonjakan yang drastis antara tahun 2011 dan 2012, menunjukkan pertumbuhan pengguna yang signifikan. Puncak penggunaan yang mendekati akhir tahun menunjukkan bahwa antusiasme untuk menggunakan E-Bike semakin meningkat.\n",
        "-  Pengurutan musim berdasarkan jumlah user adalah fall, summer, winter, spring\n",
        "- Persentase jumlah user registered mendominasi jumlah user secara total\n",
        "- Ada hubungan positif signifikan antara jumlah user dengan temperatur, dan ada hubungan negatif yang kecil anatara jumlah user dengan kelembapan dan kecepatan angin\n",
        "- Jam 5 sore adalah jam dengan paling banyak pengguna\n"
      ]
    },
    {
      "cell_type": "markdown",
      "metadata": {
        "id": "9y4VUsmcYNZ5"
      },
      "source": [
        "## Analisis Lanjutan (Opsional)"
      ]
    },
    {
      "cell_type": "markdown",
      "metadata": {},
      "source": [
        "### Bagaimana pengelompokkan hari-hari berdasarkan tingkat keramaiannya dan variabel cuaca numeriknya?"
      ]
    },
    {
      "cell_type": "code",
      "execution_count": 77,
      "metadata": {
        "id": "iWhnzsJGYUCO"
      },
      "outputs": [
        {
          "name": "stdout",
          "output_type": "stream",
          "text": [
            "Jumlah per kombinasi grup:\n",
            "   cnt_group temp_group          hum_group windspeed_group  count\n",
            "0       Sepi     Dingin             Kering          Tenang      9\n",
            "1       Sepi     Dingin             Kering    Angin Sedang     14\n",
            "2       Sepi     Dingin             Kering   Angin Kencang      3\n",
            "3       Sepi     Dingin  Kelembapan Sedang          Tenang     20\n",
            "4       Sepi     Dingin  Kelembapan Sedang    Angin Sedang     13\n",
            "..       ...        ...                ...             ...    ...\n",
            "76     Ramai     Hangat  Kelembapan Sedang    Angin Sedang     34\n",
            "77     Ramai     Hangat  Kelembapan Sedang   Angin Kencang      0\n",
            "78     Ramai     Hangat             Lembap          Tenang     44\n",
            "79     Ramai     Hangat             Lembap    Angin Sedang     22\n",
            "80     Ramai     Hangat             Lembap   Angin Kencang      0\n",
            "\n",
            "[81 rows x 5 columns]\n"
          ]
        },
        {
          "name": "stderr",
          "output_type": "stream",
          "text": [
            "C:\\Users\\Rafi Kyandra\\AppData\\Local\\Temp\\ipykernel_13284\\2934306130.py:2: FutureWarning: The default of observed=False is deprecated and will be changed to True in a future version of pandas. Pass observed=False to retain current behavior or observed=True to adopt the future default and silence this warning.\n",
            "  group_counts = day_df.groupby(['cnt_group', 'temp_group', 'hum_group', 'windspeed_group']).size().reset_index(name='count')\n"
          ]
        }
      ],
      "source": [
        "# Menghitung jumlah per kombinasi grup\n",
        "group_counts = day_df.groupby(['cnt_group', 'temp_group', 'hum_group', 'windspeed_group']).size().reset_index(name='count')\n",
        "\n",
        "# Menampilkan hasil\n",
        "print(\"Jumlah per kombinasi grup:\")\n",
        "print(group_counts)"
      ]
    },
    {
      "cell_type": "code",
      "execution_count": 90,
      "metadata": {},
      "outputs": [
        {
          "name": "stdout",
          "output_type": "stream",
          "text": [
            "Jumlah per kombinasi grup (sorted):\n",
            "       cnt_group temp_group         hum_group windspeed_group  count\n",
            "           Ramai     Hangat Kelembapan Sedang          Tenang     94\n",
            "           Ramai      Sejuk Kelembapan Sedang          Tenang     47\n",
            "           Ramai     Hangat            Lembap          Tenang     44\n",
            "           Ramai      Sejuk            Lembap          Tenang     39\n",
            "           Ramai     Hangat Kelembapan Sedang    Angin Sedang     34\n",
            "Keramaian Sedang     Dingin Kelembapan Sedang          Tenang     32\n",
            "           Ramai     Dingin Kelembapan Sedang          Tenang     27\n",
            "           Ramai     Hangat            Kering          Tenang     25\n",
            "           Ramai      Sejuk Kelembapan Sedang    Angin Sedang     25\n",
            "Keramaian Sedang     Dingin Kelembapan Sedang    Angin Sedang     22\n",
            "           Ramai     Hangat            Lembap    Angin Sedang     22\n",
            "           Ramai      Sejuk            Kering    Angin Sedang     21\n",
            "            Sepi     Dingin Kelembapan Sedang          Tenang     20\n",
            "Keramaian Sedang      Sejuk            Lembap    Angin Sedang     19\n",
            "Keramaian Sedang     Dingin            Kering    Angin Sedang     19\n",
            "            Sepi     Dingin            Lembap    Angin Sedang     15\n",
            "Keramaian Sedang     Dingin            Lembap          Tenang     15\n",
            "            Sepi     Dingin            Kering    Angin Sedang     14\n",
            "Keramaian Sedang      Sejuk            Lembap          Tenang     14\n",
            "            Sepi     Dingin Kelembapan Sedang    Angin Sedang     13\n",
            "            Sepi     Dingin            Lembap          Tenang     13\n",
            "           Ramai     Dingin            Lembap          Tenang     12\n",
            "           Ramai     Dingin Kelembapan Sedang    Angin Sedang     12\n",
            "           Ramai     Hangat            Kering    Angin Sedang     12\n",
            "           Ramai      Sejuk            Lembap    Angin Sedang     11\n",
            "Keramaian Sedang      Sejuk Kelembapan Sedang    Angin Sedang     10\n",
            "Keramaian Sedang     Dingin            Kering          Tenang     10\n",
            "           Ramai      Sejuk            Kering          Tenang      9\n",
            "            Sepi     Dingin            Kering          Tenang      9\n",
            "           Ramai     Dingin            Kering    Angin Sedang      9\n",
            "Keramaian Sedang     Dingin            Lembap    Angin Sedang      8\n",
            "           Ramai     Dingin            Kering          Tenang      6\n",
            "Keramaian Sedang     Hangat Kelembapan Sedang          Tenang      6\n",
            "Keramaian Sedang     Hangat            Lembap    Angin Sedang      6\n",
            "Keramaian Sedang      Sejuk Kelembapan Sedang          Tenang      5\n",
            "            Sepi      Sejuk            Lembap    Angin Sedang      4\n",
            "Keramaian Sedang     Hangat            Lembap          Tenang      4\n",
            "Keramaian Sedang     Hangat Kelembapan Sedang    Angin Sedang      4\n",
            "Keramaian Sedang      Sejuk            Kering    Angin Sedang      4\n",
            "            Sepi     Dingin            Kering   Angin Kencang      3\n",
            "            Sepi      Sejuk            Lembap          Tenang      3\n",
            "           Ramai      Sejuk Kelembapan Sedang   Angin Kencang      2\n",
            "Keramaian Sedang     Dingin            Kering   Angin Kencang      2\n",
            "            Sepi     Hangat            Lembap          Tenang      1\n",
            "            Sepi     Hangat            Lembap    Angin Sedang      1\n",
            "Keramaian Sedang     Hangat            Kering          Tenang      1\n",
            "           Ramai      Sejuk            Kering   Angin Kencang      1\n",
            "            Sepi      Sejuk Kelembapan Sedang    Angin Sedang      1\n",
            "            Sepi      Sejuk            Kering   Angin Kencang      1\n",
            "            Sepi      Sejuk Kelembapan Sedang   Angin Kencang      0\n",
            "            Sepi      Sejuk            Kering          Tenang      0\n",
            "            Sepi      Sejuk            Kering    Angin Sedang      0\n",
            "            Sepi      Sejuk Kelembapan Sedang          Tenang      0\n",
            "            Sepi     Dingin Kelembapan Sedang   Angin Kencang      0\n",
            "            Sepi     Dingin            Lembap   Angin Kencang      0\n",
            "Keramaian Sedang      Sejuk            Kering   Angin Kencang      0\n",
            "            Sepi      Sejuk            Lembap   Angin Kencang      0\n",
            "            Sepi     Hangat Kelembapan Sedang   Angin Kencang      0\n",
            "            Sepi     Hangat Kelembapan Sedang    Angin Sedang      0\n",
            "            Sepi     Hangat Kelembapan Sedang          Tenang      0\n",
            "            Sepi     Hangat            Kering   Angin Kencang      0\n",
            "            Sepi     Hangat            Kering          Tenang      0\n",
            "            Sepi     Hangat            Kering    Angin Sedang      0\n",
            "            Sepi     Hangat            Lembap   Angin Kencang      0\n",
            "Keramaian Sedang     Dingin Kelembapan Sedang   Angin Kencang      0\n",
            "Keramaian Sedang     Hangat            Kering   Angin Kencang      0\n",
            "Keramaian Sedang     Hangat            Kering    Angin Sedang      0\n",
            "Keramaian Sedang      Sejuk Kelembapan Sedang   Angin Kencang      0\n",
            "Keramaian Sedang      Sejuk            Lembap   Angin Kencang      0\n",
            "Keramaian Sedang      Sejuk            Kering          Tenang      0\n",
            "Keramaian Sedang     Dingin            Lembap   Angin Kencang      0\n",
            "Keramaian Sedang     Hangat            Lembap   Angin Kencang      0\n",
            "Keramaian Sedang     Hangat Kelembapan Sedang   Angin Kencang      0\n",
            "           Ramai     Dingin            Lembap    Angin Sedang      0\n",
            "           Ramai     Dingin            Lembap   Angin Kencang      0\n",
            "           Ramai     Dingin Kelembapan Sedang   Angin Kencang      0\n",
            "           Ramai     Dingin            Kering   Angin Kencang      0\n",
            "           Ramai      Sejuk            Lembap   Angin Kencang      0\n",
            "           Ramai     Hangat            Kering   Angin Kencang      0\n",
            "           Ramai     Hangat Kelembapan Sedang   Angin Kencang      0\n",
            "           Ramai     Hangat            Lembap   Angin Kencang      0\n"
          ]
        },
        {
          "name": "stderr",
          "output_type": "stream",
          "text": [
            "C:\\Users\\Rafi Kyandra\\AppData\\Local\\Temp\\ipykernel_13284\\1734849412.py:2: FutureWarning: The default of observed=False is deprecated and will be changed to True in a future version of pandas. Pass observed=False to retain current behavior or observed=True to adopt the future default and silence this warning.\n",
            "  group_counts = day_df.groupby(['cnt_group', 'temp_group', 'hum_group', 'windspeed_group']).size().reset_index(name='count')\n"
          ]
        }
      ],
      "source": [
        "# Step 1: Calculate the counts per group combination\n",
        "group_counts = day_df.groupby(['cnt_group', 'temp_group', 'hum_group', 'windspeed_group']).size().reset_index(name='count')\n",
        "\n",
        "# Step 2: Sort the group counts by 'count' in descending order\n",
        "sorted_group_counts = group_counts.sort_values(by='count', ascending=False)\n",
        "\n",
        "# Step 3: Displaying all combinations\n",
        "print(\"Jumlah per kombinasi grup (sorted):\")\n",
        "print(sorted_group_counts.to_string(index=False))  # Display all rows without index\n",
        "plt.show()"
      ]
    },
    {
      "cell_type": "markdown",
      "metadata": {},
      "source": [
        "Setelah pengelompokkan, kita dapat mengkonfirmasi temuan kita bahwa ada hubungan antara variabel cuaca numerik dengan jumlah user. Hari yang memiliki jumlah user ramai banyak yang terjadi pada temperatur yang hangat dan sejuk. Sebaliknya, hari yang sepi biasanya memiliki temperatur yang dingin."
      ]
    },
    {
      "cell_type": "markdown",
      "metadata": {
        "id": "_WeHlCeX8DC2"
      },
      "source": [
        "## Conclusion"
      ]
    },
    {
      "cell_type": "markdown",
      "metadata": {},
      "source": [
        "**day.csv**\n",
        "- Bagaimana performa tingkat penggunaan E-Bike pada Tahun 2011 - 2012 berdasarkan bulan?\n",
        "    - Jawaban : Jumlah user meningkat secara dari 2011 ke 2012. Jumlah user terbanyak pada 2011 ada pada bulan Juni, sedangkan paling sedikit ada pada bulan Januari. Jumlah user terbanyak pada 2012 ada pada bulan September, sedangkan paling sedikit ada pada bulan Januari juga. Jumlah user akan memuncak cenderung pada pertengahan tahun, dan akan menurun di penghujung tahun sampai awal tahun berikutnya. Setelah itu, user akan meningkat sampai puncaknya di pertengahan tahun selanjutnya. Bulan dengan user terbanyak juga bergeser dari Juni (2011 ) ke September (2012) hal ini menunjukkan peningkatan jumlah dan antusiasme user untuk menggunakan E-Bike.\n",
        "\n",
        "- Pada musim apa penggunaan E-Bike paling banyak?\n",
        "    - Jawaban : Urutan jumlah dari yang terbanyak adalah musim gugur, musim panas, musim dingin, dan musim semi. Hal ini menunjukkan bahwa ada kecendurungan jumlah user lebih banyak pada musim yang terbilang hangat dan cerah daripada musim yang terbilang dingin dan sejuk.\n",
        "\n",
        "- Bagaimana persen pembagian antara pengguna registered dan casual?\n",
        "    - Jawaban : Jumlah user registered dengan persentasi 81.2% melampaui casual dengan persentasi 18.2%. Hal ini menunjukkan bahwa perusahaan E-Bike harus dapat mempertahankan user-base mereka. Hal tersebut dapat dilakukan dengan tidak melakukan kebijakan drastis yang dapat mengasingkan registered user. Hal ini mengingat jumlah user total secara keseluruhan masih bertambah dari tahun ke tahun sehingga perusahaan E-Bike dapat berfokus mempertahankan dan memanfaatkan momentum ini.\n",
        "    \n",
        "- Bagaimana korelasi/ hubungan antara jumlah user dengan beberapa variabel cuaca numerik seperti temperatur, kecepatan angin, dan kelembapan?\n",
        "    - Jawaban : Ada hubungan positif yang signifikan antara jumlah user dengan temperatur, ini berarti semakin hangat temperatur maka semakin banyak user yang menggunakan layanan. Sedangkan, untuk kecepetanan angin dan kelembapan memiliki rhubungan negatif tapi tidak terlalu signifikan dengan jumlah user, sehingga secara teori semakin tenang angin dan semakin kering kelembapan akan menambah jumlah user. Perlu diingat bahwa korelasi jumlah user dengan temperatur melampaui korelasi jumlah user dengan kecepatan angin dan kelembapan.\n",
        "\n",
        "**hour.csv**\n",
        "- Pada jam berapakah user banyak menggunakan sepeda?\n",
        "    - Jawaban : User paling banyak ada di jam 17 atau 5 sore. Kemudian ada beberapa jam optimal, pada pagi hari di jam 7 - 9, siang pada jam 12 - 15 dan sore-malam pada jam 16 - 19.\n",
        "\n",
        "**day.csv additional question**\n",
        "- Bagaimana pengelompokkan hari-hari berdasarkan tingkat keramaiannya dan variabel cuaca numeriknya?\n",
        "    - Jawaban : Pengelompokkan seperti yang kita lihat sebelumnya, mempunyai pola yang sesuai dengan korelasi antara jumlah user dan variabel cuaca numerik yang kita temukan sebelumnya. Hari yang memiliki jumlah user ramai banyak yang terjadi pada temperatur yang hangat dan sejuk. Sebaliknya, hari yang sepi biasanya memiliki temperatur yang dingin.\n"
      ]
    }
  ],
  "metadata": {
    "colab": {
      "provenance": []
    },
    "kernelspec": {
      "display_name": "proyekanalisisdata",
      "language": "python",
      "name": "python3"
    },
    "language_info": {
      "codemirror_mode": {
        "name": "ipython",
        "version": 3
      },
      "file_extension": ".py",
      "mimetype": "text/x-python",
      "name": "python",
      "nbconvert_exporter": "python",
      "pygments_lexer": "ipython3",
      "version": "3.11.2"
    },
    "orig_nbformat": 4
  },
  "nbformat": 4,
  "nbformat_minor": 0
}
